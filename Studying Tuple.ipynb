{
 "cells": [
  {
   "cell_type": "markdown",
   "id": "6c67c856",
   "metadata": {},
   "source": [
    "# Tuple\n",
    "### Agenda Today\n",
    "1. Tuple introduction\n",
    "2. tuple object\n",
    "3. indexing\n",
    "4. Accessing tuple elements\n",
    "5. built-in methods\n",
    "6. Concatenation and repetition operator\n",
    "7. Comparison operators\n",
    "8. tuple object methods\n",
    "9. slicing operator\n",
    "10. user input"
   ]
  },
  {
   "cell_type": "markdown",
   "id": "e1638ea0",
   "metadata": {},
   "source": [
    "# 1.Tuple\n",
    "* Tuple is a class\n",
    "* tuple is iterable\n",
    "* tuple is immutable\n",
    "* tuple is hashable\n",
    "* tuple is a sequence\n",
    "* you can store heterogeneous data in tuple"
   ]
  },
  {
   "cell_type": "markdown",
   "id": "f68750ad",
   "metadata": {},
   "source": [
    "# 2.How to create tuple object"
   ]
  },
  {
   "cell_type": "code",
   "execution_count": 69,
   "id": "487d61ad",
   "metadata": {},
   "outputs": [],
   "source": [
    "t1=(1,2,4) \n",
    "t2=()\n",
    "t3=(23) # not a tuple\n",
    "t=(23,) # this is tuple.. this is correct way to create tuple with single object\n",
    "t4=10,20,45,34,3,5,5, # this is also tuple...you are allowed to remove parenthesis..only in case of tuple"
   ]
  },
  {
   "cell_type": "code",
   "execution_count": 70,
   "id": "8e0f7216",
   "metadata": {},
   "outputs": [
    {
     "name": "stdout",
     "output_type": "stream",
     "text": [
      "<class 'int'>\n",
      "<class 'tuple'>\n",
      "<class 'tuple'>\n"
     ]
    }
   ],
   "source": [
    "print(type(t3))\n",
    "print(type(t2))\n",
    "print(type(t4))"
   ]
  },
  {
   "cell_type": "markdown",
   "id": "e57eb436",
   "metadata": {},
   "source": [
    "# 3. Indexing\n",
    "Same as list and string"
   ]
  },
  {
   "cell_type": "code",
   "execution_count": 71,
   "id": "68e8cb5c",
   "metadata": {
    "scrolled": true
   },
   "outputs": [
    {
     "data": {
      "text/plain": [
       "20"
      ]
     },
     "execution_count": 71,
     "metadata": {},
     "output_type": "execute_result"
    }
   ],
   "source": [
    "t4[1]"
   ]
  },
  {
   "cell_type": "code",
   "execution_count": 72,
   "id": "7a61e3e2",
   "metadata": {},
   "outputs": [
    {
     "data": {
      "text/plain": [
       "5"
      ]
     },
     "execution_count": 72,
     "metadata": {},
     "output_type": "execute_result"
    }
   ],
   "source": [
    "t4[-1]"
   ]
  },
  {
   "cell_type": "code",
   "execution_count": 73,
   "id": "c5168579",
   "metadata": {},
   "outputs": [
    {
     "data": {
      "text/plain": [
       "(10, 20, 45, 34, 3, 5, 5)"
      ]
     },
     "execution_count": 73,
     "metadata": {},
     "output_type": "execute_result"
    }
   ],
   "source": [
    "t4"
   ]
  },
  {
   "cell_type": "code",
   "execution_count": 74,
   "id": "5145cfaa",
   "metadata": {},
   "outputs": [
    {
     "data": {
      "text/plain": [
       "(5, 34, 10)"
      ]
     },
     "execution_count": 74,
     "metadata": {},
     "output_type": "execute_result"
    }
   ],
   "source": [
    "t4[::-3]"
   ]
  },
  {
   "cell_type": "code",
   "execution_count": 75,
   "id": "db350727",
   "metadata": {},
   "outputs": [],
   "source": [
    "t01=(34,32,3,)"
   ]
  },
  {
   "cell_type": "code",
   "execution_count": 76,
   "id": "05807525",
   "metadata": {},
   "outputs": [
    {
     "data": {
      "text/plain": [
       "3"
      ]
     },
     "execution_count": 76,
     "metadata": {},
     "output_type": "execute_result"
    }
   ],
   "source": [
    "t01[2]"
   ]
  },
  {
   "cell_type": "markdown",
   "id": "752fdb4b",
   "metadata": {},
   "source": [
    "# 4. Accessing Tuple elements\n",
    "* through indexing\n",
    "* through loops"
   ]
  },
  {
   "cell_type": "code",
   "execution_count": 77,
   "id": "6444f9de",
   "metadata": {},
   "outputs": [
    {
     "name": "stdout",
     "output_type": "stream",
     "text": [
      "34 32 3 "
     ]
    }
   ],
   "source": [
    "i=0\n",
    "while i<len(t01):\n",
    "    print(t01[i],end=\" \")\n",
    "    i+=1"
   ]
  },
  {
   "cell_type": "code",
   "execution_count": 78,
   "id": "5e0b00e8",
   "metadata": {},
   "outputs": [
    {
     "name": "stdout",
     "output_type": "stream",
     "text": [
      "34\n",
      "32\n",
      "3\n"
     ]
    }
   ],
   "source": [
    "for i in t01:\n",
    "    print(i)"
   ]
  },
  {
   "cell_type": "markdown",
   "id": "c300ebca",
   "metadata": {},
   "source": [
    "# 5.built-in methods\n",
    "* len()\n",
    "* min()\n",
    "* max()\n",
    "* sum()\n",
    "* sorted()"
   ]
  },
  {
   "cell_type": "code",
   "execution_count": 79,
   "id": "8bca37d3",
   "metadata": {},
   "outputs": [
    {
     "data": {
      "text/plain": [
       "7"
      ]
     },
     "execution_count": 79,
     "metadata": {},
     "output_type": "execute_result"
    }
   ],
   "source": [
    "len(t4)"
   ]
  },
  {
   "cell_type": "code",
   "execution_count": 80,
   "id": "449620f1",
   "metadata": {},
   "outputs": [],
   "source": [
    "T=\"abhi\",\"Delhi\",\"Mohanjodaro\",54"
   ]
  },
  {
   "cell_type": "code",
   "execution_count": 81,
   "id": "1c4bfea6",
   "metadata": {},
   "outputs": [],
   "source": [
    "T1=\"abhi\",\"Delhi\",\"Mohanjodaro\",\"fff\""
   ]
  },
  {
   "cell_type": "code",
   "execution_count": 82,
   "id": "a5a216c5",
   "metadata": {},
   "outputs": [
    {
     "ename": "TypeError",
     "evalue": "'<' not supported between instances of 'int' and 'str'",
     "output_type": "error",
     "traceback": [
      "\u001b[1;31m---------------------------------------------------------------------------\u001b[0m",
      "\u001b[1;31mTypeError\u001b[0m                                 Traceback (most recent call last)",
      "Input \u001b[1;32mIn [82]\u001b[0m, in \u001b[0;36m<cell line: 1>\u001b[1;34m()\u001b[0m\n\u001b[1;32m----> 1\u001b[0m \u001b[38;5;28;43mmin\u001b[39;49m\u001b[43m(\u001b[49m\u001b[43mT\u001b[49m\u001b[43m)\u001b[49m\n",
      "\u001b[1;31mTypeError\u001b[0m: '<' not supported between instances of 'int' and 'str'"
     ]
    }
   ],
   "source": [
    "min(T)"
   ]
  },
  {
   "cell_type": "code",
   "execution_count": 83,
   "id": "f5dbbccc",
   "metadata": {},
   "outputs": [
    {
     "data": {
      "text/plain": [
       "34"
      ]
     },
     "execution_count": 83,
     "metadata": {},
     "output_type": "execute_result"
    }
   ],
   "source": [
    "max(t01)"
   ]
  },
  {
   "cell_type": "code",
   "execution_count": 84,
   "id": "e237cfa0",
   "metadata": {},
   "outputs": [
    {
     "data": {
      "text/plain": [
       "3"
      ]
     },
     "execution_count": 84,
     "metadata": {},
     "output_type": "execute_result"
    }
   ],
   "source": [
    "min(t4)"
   ]
  },
  {
   "cell_type": "code",
   "execution_count": 85,
   "id": "f2086a25",
   "metadata": {},
   "outputs": [
    {
     "data": {
      "text/plain": [
       "45"
      ]
     },
     "execution_count": 85,
     "metadata": {},
     "output_type": "execute_result"
    }
   ],
   "source": [
    "max(t4)"
   ]
  },
  {
   "cell_type": "code",
   "execution_count": 86,
   "id": "df64d49a",
   "metadata": {},
   "outputs": [
    {
     "ename": "TypeError",
     "evalue": "'<' not supported between instances of 'int' and 'str'",
     "output_type": "error",
     "traceback": [
      "\u001b[1;31m---------------------------------------------------------------------------\u001b[0m",
      "\u001b[1;31mTypeError\u001b[0m                                 Traceback (most recent call last)",
      "Input \u001b[1;32mIn [86]\u001b[0m, in \u001b[0;36m<cell line: 1>\u001b[1;34m()\u001b[0m\n\u001b[1;32m----> 1\u001b[0m \u001b[38;5;28;43msorted\u001b[39;49m\u001b[43m(\u001b[49m\u001b[43mT\u001b[49m\u001b[43m)\u001b[49m\n",
      "\u001b[1;31mTypeError\u001b[0m: '<' not supported between instances of 'int' and 'str'"
     ]
    }
   ],
   "source": [
    "sorted(T)"
   ]
  },
  {
   "cell_type": "code",
   "execution_count": 87,
   "id": "ef84058e",
   "metadata": {},
   "outputs": [
    {
     "data": {
      "text/plain": [
       "['Delhi', 'Mohanjodaro', 'abhi', 'fff']"
      ]
     },
     "execution_count": 87,
     "metadata": {},
     "output_type": "execute_result"
    }
   ],
   "source": [
    "sorted(T1)"
   ]
  },
  {
   "cell_type": "code",
   "execution_count": 88,
   "id": "3d64a477",
   "metadata": {},
   "outputs": [],
   "source": [
    "# you can convert tuple into list  and list into tuple\n",
    "l1=list(T)"
   ]
  },
  {
   "cell_type": "code",
   "execution_count": 89,
   "id": "42a302ec",
   "metadata": {},
   "outputs": [
    {
     "name": "stdout",
     "output_type": "stream",
     "text": [
      "('abhi', 'Delhi', 'Mohanjodaro', 54)\n",
      "['abhi', 'Delhi', 'Mohanjodaro', 54]\n"
     ]
    }
   ],
   "source": [
    "print(T)\n",
    "print(l1)"
   ]
  },
  {
   "cell_type": "code",
   "execution_count": 90,
   "id": "3999c85d",
   "metadata": {},
   "outputs": [
    {
     "data": {
      "text/plain": [
       "list"
      ]
     },
     "execution_count": 90,
     "metadata": {},
     "output_type": "execute_result"
    }
   ],
   "source": [
    "l=[3,4,52,]\n",
    "type(l)"
   ]
  },
  {
   "cell_type": "code",
   "execution_count": 91,
   "id": "7c7757c8",
   "metadata": {},
   "outputs": [
    {
     "name": "stdout",
     "output_type": "stream",
     "text": [
      "(3, 4, 52)\n"
     ]
    }
   ],
   "source": [
    "tu=tuple(l)\n",
    "print(tu)"
   ]
  },
  {
   "cell_type": "markdown",
   "id": "f35cc969",
   "metadata": {},
   "source": [
    "# 6. Concatenation and Repetition Operator"
   ]
  },
  {
   "cell_type": "code",
   "execution_count": 92,
   "id": "b36763f5",
   "metadata": {},
   "outputs": [
    {
     "data": {
      "text/plain": [
       "(1, 2, 4, 10, 20, 45, 34, 3, 5, 5)"
      ]
     },
     "execution_count": 92,
     "metadata": {},
     "output_type": "execute_result"
    }
   ],
   "source": [
    "t1+t4"
   ]
  },
  {
   "cell_type": "code",
   "execution_count": 93,
   "id": "da37c29a",
   "metadata": {},
   "outputs": [
    {
     "data": {
      "text/plain": [
       "(1, 2, 4)"
      ]
     },
     "execution_count": 93,
     "metadata": {},
     "output_type": "execute_result"
    }
   ],
   "source": [
    "t1"
   ]
  },
  {
   "cell_type": "code",
   "execution_count": 94,
   "id": "8ea8b567",
   "metadata": {},
   "outputs": [
    {
     "data": {
      "text/plain": [
       "(1, 2, 4, 1, 2, 4, 1, 2, 4)"
      ]
     },
     "execution_count": 94,
     "metadata": {},
     "output_type": "execute_result"
    }
   ],
   "source": [
    "t1*3"
   ]
  },
  {
   "cell_type": "markdown",
   "id": "497fadfb",
   "metadata": {},
   "source": [
    "# 7. Comparison Operator\n",
    "You can compare two tuples. It will check the first element of both tuples , if first elements are same, it will check next and so on... \n",
    "for equal to (==), both tuple must be same"
   ]
  },
  {
   "cell_type": "code",
   "execution_count": 95,
   "id": "c3143a81",
   "metadata": {},
   "outputs": [],
   "source": [
    "T1=\"Abhi\",\"Gol\",\"Ere\"\n",
    "T2=\"Abh\",5,\"35\""
   ]
  },
  {
   "cell_type": "code",
   "execution_count": 96,
   "id": "83125933",
   "metadata": {},
   "outputs": [
    {
     "data": {
      "text/plain": [
       "True"
      ]
     },
     "execution_count": 96,
     "metadata": {},
     "output_type": "execute_result"
    }
   ],
   "source": [
    "T1>T2"
   ]
  },
  {
   "cell_type": "code",
   "execution_count": 97,
   "id": "330ab975",
   "metadata": {},
   "outputs": [
    {
     "data": {
      "text/plain": [
       "False"
      ]
     },
     "execution_count": 97,
     "metadata": {},
     "output_type": "execute_result"
    }
   ],
   "source": [
    "T1==T2"
   ]
  },
  {
   "cell_type": "markdown",
   "id": "2f09fab0",
   "metadata": {},
   "source": [
    "# 8 Tuple Objects\n",
    " Tuple has only two functions\n",
    "* index()\n",
    "* count() "
   ]
  },
  {
   "cell_type": "code",
   "execution_count": 98,
   "id": "4e558f13",
   "metadata": {},
   "outputs": [
    {
     "data": {
      "text/plain": [
       "2"
      ]
     },
     "execution_count": 98,
     "metadata": {},
     "output_type": "execute_result"
    }
   ],
   "source": [
    "t4.index(45)"
   ]
  },
  {
   "cell_type": "code",
   "execution_count": 99,
   "id": "3e026e60",
   "metadata": {},
   "outputs": [
    {
     "data": {
      "text/plain": [
       "2"
      ]
     },
     "execution_count": 99,
     "metadata": {},
     "output_type": "execute_result"
    }
   ],
   "source": [
    "t4.count(5)"
   ]
  },
  {
   "cell_type": "markdown",
   "id": "7c537ba7",
   "metadata": {},
   "source": [
    "# 9. Slicing Operator\n",
    "Works the same way\n",
    "* Syntax=t1[beg:end:step]"
   ]
  },
  {
   "cell_type": "code",
   "execution_count": 101,
   "id": "5e447e39",
   "metadata": {},
   "outputs": [
    {
     "data": {
      "text/plain": [
       "(10, 20, 45, 34, 3, 5, 5)"
      ]
     },
     "execution_count": 101,
     "metadata": {},
     "output_type": "execute_result"
    }
   ],
   "source": [
    "t4"
   ]
  },
  {
   "cell_type": "code",
   "execution_count": 105,
   "id": "cb101fba",
   "metadata": {
    "scrolled": true
   },
   "outputs": [
    {
     "data": {
      "text/plain": [
       "()"
      ]
     },
     "execution_count": 105,
     "metadata": {},
     "output_type": "execute_result"
    }
   ],
   "source": [
    "t4[1:5:-1]"
   ]
  },
  {
   "cell_type": "code",
   "execution_count": 106,
   "id": "6eccf4f7",
   "metadata": {},
   "outputs": [
    {
     "data": {
      "text/plain": [
       "(5, 3, 34, 45)"
      ]
     },
     "execution_count": 106,
     "metadata": {},
     "output_type": "execute_result"
    }
   ],
   "source": [
    "t4[5:1:-1]"
   ]
  },
  {
   "cell_type": "markdown",
   "id": "d32cd2d1",
   "metadata": {},
   "source": [
    "# 10.user input\n",
    "* Note: Tuple doesn't support tuple comprehension like list does for list comprehension"
   ]
  },
  {
   "cell_type": "code",
   "execution_count": 121,
   "id": "c980bbc3",
   "metadata": {},
   "outputs": [
    {
     "data": {
      "text/plain": [
       "['Abhishek', 'Chaubey']"
      ]
     },
     "execution_count": 121,
     "metadata": {},
     "output_type": "execute_result"
    }
   ],
   "source": [
    "\"AbhishekBChaubey\".split(\"B\")"
   ]
  },
  {
   "cell_type": "code",
   "execution_count": 122,
   "id": "255071e9",
   "metadata": {
    "scrolled": true
   },
   "outputs": [
    {
     "name": "stdout",
     "output_type": "stream",
     "text": [
      "5,7,8,2\n"
     ]
    },
    {
     "data": {
      "text/plain": [
       "(5, 7, 8, 2)"
      ]
     },
     "execution_count": 122,
     "metadata": {},
     "output_type": "execute_result"
    }
   ],
   "source": [
    "tuple([int(e) for e in input().split(\",\")])"
   ]
  },
  {
   "cell_type": "code",
   "execution_count": 115,
   "id": "3f53b03e",
   "metadata": {},
   "outputs": [
    {
     "data": {
      "text/plain": [
       "(2, 3, 4)"
      ]
     },
     "execution_count": 115,
     "metadata": {},
     "output_type": "execute_result"
    }
   ],
   "source": [
    "tu=tuple([2,3,4])\n",
    "tu"
   ]
  },
  {
   "cell_type": "code",
   "execution_count": 123,
   "id": "e240d53d",
   "metadata": {},
   "outputs": [],
   "source": [
    "t02=tuple(range(5))"
   ]
  },
  {
   "cell_type": "code",
   "execution_count": 124,
   "id": "bbe2fc80",
   "metadata": {},
   "outputs": [
    {
     "name": "stdout",
     "output_type": "stream",
     "text": [
      "(0, 1, 2, 3, 4)\n"
     ]
    }
   ],
   "source": [
    "print(t02)"
   ]
  },
  {
   "cell_type": "code",
   "execution_count": null,
   "id": "eee1e9d3",
   "metadata": {},
   "outputs": [],
   "source": []
  }
 ],
 "metadata": {
  "kernelspec": {
   "display_name": "Python 3",
   "language": "python",
   "name": "python3"
  },
  "language_info": {
   "codemirror_mode": {
    "name": "ipython",
    "version": 3
   },
   "file_extension": ".py",
   "mimetype": "text/x-python",
   "name": "python",
   "nbconvert_exporter": "python",
   "pygments_lexer": "ipython3",
   "version": "3.8.8"
  }
 },
 "nbformat": 4,
 "nbformat_minor": 5
}
