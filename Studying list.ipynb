{
 "cells": [
  {
   "cell_type": "markdown",
   "id": "48c9b2e6",
   "metadata": {},
   "source": [
    "# List\n",
    "### Agenda today\n",
    "1. What is a list\n",
    "2. How to create list object\n",
    "3. How to access list elements\n",
    "4. Concept of negative indexing\n",
    "5. Accessing list element via for loop\n",
    "6. How to delete an element from a list\n",
    "7. How to edit an element of the list\n",
    "8. how to add more elements in the list\n",
    "9. packing and unpacking\n",
    "10. built-in methods\n",
    "11. list() method\n",
    "12. comparison opertors on list\n",
    "13. concatenation opertors\n",
    "14. repetion operator\n",
    "15. list of list\n",
    "16. list object methods\n",
    "17. list comprehension\n",
    "18. user input\n",
    "19. mutability and hashability \n"
   ]
  },
  {
   "cell_type": "markdown",
   "id": "6cac271e",
   "metadata": {},
   "source": [
    "# 1.List\n",
    "* list is a class\n",
    "* list is an iterable sequence (all sequence are iterable but not all iterable are sequence\n",
    "* list is mutable\n",
    "* list is growable\n",
    "* list can store hetrogeneous data\n",
    "* list elements are indexed"
   ]
  },
  {
   "cell_type": "markdown",
   "id": "4986c948",
   "metadata": {},
   "source": [
    "# 2. How to create list object\n",
    "* l1=[10,20,350]  # square brackes are used to donate a list\n",
    "* l2=[] # empty list\n",
    "* l3=[\"a\",12,True,3+5J]  # list can store heterogeneous elements"
   ]
  },
  {
   "cell_type": "markdown",
   "id": "84933a7f",
   "metadata": {},
   "source": [
    "# 3. How to access list elements"
   ]
  },
  {
   "cell_type": "code",
   "execution_count": 1,
   "id": "6ed04c07",
   "metadata": {},
   "outputs": [
    {
     "name": "stdout",
     "output_type": "stream",
     "text": [
      "[10, 253, 35, 3254]\n"
     ]
    }
   ],
   "source": [
    "l1=[10,253,35,3254]\n",
    "print(l1)"
   ]
  },
  {
   "cell_type": "code",
   "execution_count": 2,
   "id": "065d83c3",
   "metadata": {},
   "outputs": [
    {
     "name": "stdout",
     "output_type": "stream",
     "text": [
      "[]\n"
     ]
    }
   ],
   "source": [
    "l2=[]\n",
    "print(l2)"
   ]
  },
  {
   "cell_type": "code",
   "execution_count": 3,
   "id": "7c67dea0",
   "metadata": {},
   "outputs": [
    {
     "data": {
      "text/plain": [
       "10"
      ]
     },
     "execution_count": 3,
     "metadata": {},
     "output_type": "execute_result"
    }
   ],
   "source": [
    "# to print particular elements of list, use indexing \n",
    "l1[0]"
   ]
  },
  {
   "cell_type": "code",
   "execution_count": 4,
   "id": "41b05ca0",
   "metadata": {
    "scrolled": true
   },
   "outputs": [
    {
     "ename": "IndexError",
     "evalue": "list index out of range",
     "output_type": "error",
     "traceback": [
      "\u001b[1;31m---------------------------------------------------------------------------\u001b[0m",
      "\u001b[1;31mIndexError\u001b[0m                                Traceback (most recent call last)",
      "\u001b[1;32m~\\AppData\\Local\\Temp\\ipykernel_15700\\1527049042.py\u001b[0m in \u001b[0;36m<module>\u001b[1;34m\u001b[0m\n\u001b[1;32m----> 1\u001b[1;33m \u001b[0mprint\u001b[0m\u001b[1;33m(\u001b[0m\u001b[0ml1\u001b[0m\u001b[1;33m[\u001b[0m\u001b[1;36m4\u001b[0m\u001b[1;33m]\u001b[0m\u001b[1;33m)\u001b[0m \u001b[1;31m#this will give errror bcos l1 list has not 4 index\u001b[0m\u001b[1;33m\u001b[0m\u001b[1;33m\u001b[0m\u001b[0m\n\u001b[0m\u001b[0;32m      2\u001b[0m \u001b[1;31m# the last index is 3 since indexing starts from 0\u001b[0m\u001b[1;33m\u001b[0m\u001b[1;33m\u001b[0m\u001b[0m\n",
      "\u001b[1;31mIndexError\u001b[0m: list index out of range"
     ]
    }
   ],
   "source": [
    "print(l1[4]) #this will give errror bcos l1 list has not 4 index\n",
    "# the last index is 3 since indexing starts from 0"
   ]
  },
  {
   "cell_type": "code",
   "execution_count": 5,
   "id": "b3ccf1e8",
   "metadata": {
    "scrolled": true
   },
   "outputs": [
    {
     "ename": "IndexError",
     "evalue": "list index out of range",
     "output_type": "error",
     "traceback": [
      "\u001b[1;31m---------------------------------------------------------------------------\u001b[0m",
      "\u001b[1;31mIndexError\u001b[0m                                Traceback (most recent call last)",
      "\u001b[1;32m~\\AppData\\Local\\Temp\\ipykernel_15700\\1376878604.py\u001b[0m in \u001b[0;36m<module>\u001b[1;34m\u001b[0m\n\u001b[1;32m----> 1\u001b[1;33m \u001b[0ml2\u001b[0m\u001b[1;33m[\u001b[0m\u001b[1;36m0\u001b[0m\u001b[1;33m]\u001b[0m \u001b[1;31m#error becous this is empty list\u001b[0m\u001b[1;33m\u001b[0m\u001b[1;33m\u001b[0m\u001b[0m\n\u001b[0m",
      "\u001b[1;31mIndexError\u001b[0m: list index out of range"
     ]
    }
   ],
   "source": [
    "l2[0] #error becous this is empty list"
   ]
  },
  {
   "cell_type": "code",
   "execution_count": 6,
   "id": "92970e2e",
   "metadata": {},
   "outputs": [
    {
     "name": "stdout",
     "output_type": "stream",
     "text": [
      "[50, 20, 80, 10, 60, 40]\n"
     ]
    }
   ],
   "source": [
    "L1=[50,20,80,10,60,40]\n",
    "print(L1)"
   ]
  },
  {
   "cell_type": "code",
   "execution_count": 8,
   "id": "cd3e6faf",
   "metadata": {},
   "outputs": [
    {
     "name": "stdout",
     "output_type": "stream",
     "text": [
      "50\n"
     ]
    }
   ],
   "source": [
    "print(L1[0])"
   ]
  },
  {
   "cell_type": "code",
   "execution_count": 9,
   "id": "f6b9fda6",
   "metadata": {},
   "outputs": [
    {
     "name": "stdout",
     "output_type": "stream",
     "text": [
      "60 10\n"
     ]
    }
   ],
   "source": [
    "print(L1[4],L1[3])"
   ]
  },
  {
   "cell_type": "markdown",
   "id": "567ad93e",
   "metadata": {},
   "source": [
    "# 4.Concept of negative indexing\n",
    "* l1=[50,32,54,53,32,35]\n",
    "* negative indexing of l1=[-6,-5,-4,-3,-2,-1]"
   ]
  },
  {
   "cell_type": "code",
   "execution_count": 10,
   "id": "38c86479",
   "metadata": {},
   "outputs": [
    {
     "name": "stdout",
     "output_type": "stream",
     "text": [
      "3254\n"
     ]
    }
   ],
   "source": [
    "print(l1[-1])"
   ]
  },
  {
   "cell_type": "markdown",
   "id": "cd98e10b",
   "metadata": {},
   "source": [
    "# 5. Accessing list element via for loop"
   ]
  },
  {
   "cell_type": "code",
   "execution_count": 10,
   "id": "4fdbb9a6",
   "metadata": {},
   "outputs": [
    {
     "name": "stdout",
     "output_type": "stream",
     "text": [
      "10\n",
      "253\n",
      "35\n",
      "3254\n"
     ]
    }
   ],
   "source": [
    "for x in l1:\n",
    "    print(x,end=\"\\n\")"
   ]
  },
  {
   "cell_type": "code",
   "execution_count": 24,
   "id": "fc851c46",
   "metadata": {},
   "outputs": [
    {
     "name": "stdout",
     "output_type": "stream",
     "text": [
      "10 253 35 3254 "
     ]
    }
   ],
   "source": [
    "# question: Try this via while loop\n",
    "i=0\n",
    "while i<=3:\n",
    "    print(l1[i], end=' ')\n",
    "    i+=1"
   ]
  },
  {
   "cell_type": "code",
   "execution_count": 25,
   "id": "118d1007",
   "metadata": {},
   "outputs": [
    {
     "name": "stdout",
     "output_type": "stream",
     "text": [
      "3254 35 253 10 "
     ]
    }
   ],
   "source": [
    "# printing/accessing list element from reverse\n",
    "i=3\n",
    "while i>=0:\n",
    "    print(l1[i],end=\" \")\n",
    "    i-=1\n",
    "    "
   ]
  },
  {
   "cell_type": "markdown",
   "id": "1b61e12e",
   "metadata": {},
   "source": [
    "# 6.How to delete an element from the list"
   ]
  },
  {
   "cell_type": "code",
   "execution_count": 40,
   "id": "8e23aff1",
   "metadata": {},
   "outputs": [
    {
     "data": {
      "text/plain": [
       "[60, 40]"
      ]
     },
     "execution_count": 40,
     "metadata": {},
     "output_type": "execute_result"
    }
   ],
   "source": [
    "L1"
   ]
  },
  {
   "cell_type": "code",
   "execution_count": 39,
   "id": "167b946a",
   "metadata": {},
   "outputs": [
    {
     "ename": "IndexError",
     "evalue": "list assignment index out of range",
     "output_type": "error",
     "traceback": [
      "\u001b[1;31m---------------------------------------------------------------------------\u001b[0m",
      "\u001b[1;31mIndexError\u001b[0m                                Traceback (most recent call last)",
      "Input \u001b[1;32mIn [39]\u001b[0m, in \u001b[0;36m<cell line: 1>\u001b[1;34m()\u001b[0m\n\u001b[1;32m----> 1\u001b[0m \u001b[38;5;28;01mdel\u001b[39;00m L1[\u001b[38;5;241m2\u001b[39m]\n",
      "\u001b[1;31mIndexError\u001b[0m: list assignment index out of range"
     ]
    }
   ],
   "source": [
    "del L1[2]"
   ]
  },
  {
   "cell_type": "code",
   "execution_count": 33,
   "id": "6b0f49cc",
   "metadata": {},
   "outputs": [
    {
     "data": {
      "text/plain": [
       "[50, 20, 10, 60, 40]"
      ]
     },
     "execution_count": 33,
     "metadata": {},
     "output_type": "execute_result"
    }
   ],
   "source": [
    "L1 #this is the new list we got after deleting the 2nd element"
   ]
  },
  {
   "cell_type": "code",
   "execution_count": 36,
   "id": "8848a6f6",
   "metadata": {},
   "outputs": [
    {
     "data": {
      "text/plain": [
       "[60, 40]"
      ]
     },
     "execution_count": 36,
     "metadata": {},
     "output_type": "execute_result"
    }
   ],
   "source": [
    "del L1[-3]\n",
    "L1"
   ]
  },
  {
   "cell_type": "markdown",
   "id": "b24b6fd1",
   "metadata": {},
   "source": [
    "# 7. How to edit an element of the list\n",
    "editting doesn't mean adding new value to list.\n",
    "It just changes the existing value in the list"
   ]
  },
  {
   "cell_type": "code",
   "execution_count": 1,
   "id": "9991bbd6",
   "metadata": {},
   "outputs": [],
   "source": [
    "l1=[45,464,356,23,235,23]\n",
    "l1[2]=34"
   ]
  },
  {
   "cell_type": "code",
   "execution_count": 2,
   "id": "dcbf7bf3",
   "metadata": {},
   "outputs": [
    {
     "name": "stdout",
     "output_type": "stream",
     "text": [
      "[45, 464, 34, 23, 235, 23]\n"
     ]
    }
   ],
   "source": [
    "print(l1)"
   ]
  },
  {
   "cell_type": "code",
   "execution_count": 3,
   "id": "ddc5145f",
   "metadata": {},
   "outputs": [
    {
     "ename": "IndexError",
     "evalue": "list assignment index out of range",
     "output_type": "error",
     "traceback": [
      "\u001b[1;31m---------------------------------------------------------------------------\u001b[0m",
      "\u001b[1;31mIndexError\u001b[0m                                Traceback (most recent call last)",
      "Input \u001b[1;32mIn [3]\u001b[0m, in \u001b[0;36m<cell line: 1>\u001b[1;34m()\u001b[0m\n\u001b[1;32m----> 1\u001b[0m l1[\u001b[38;5;241m6\u001b[39m]\u001b[38;5;241m=\u001b[39m\u001b[38;5;241m43\u001b[39m\n",
      "\u001b[1;31mIndexError\u001b[0m: list assignment index out of range"
     ]
    }
   ],
   "source": [
    "l1[6]=43 # this will give error as list doesnt have 6 indexes"
   ]
  },
  {
   "cell_type": "markdown",
   "id": "61bfe8d8",
   "metadata": {},
   "source": [
    "# 8.How to add more elements in list"
   ]
  },
  {
   "cell_type": "code",
   "execution_count": 11,
   "id": "c261c066",
   "metadata": {},
   "outputs": [],
   "source": [
    "l=[50,34,45,462,90,12] "
   ]
  },
  {
   "cell_type": "code",
   "execution_count": 10,
   "id": "16a757a3",
   "metadata": {},
   "outputs": [
    {
     "ename": "IndexError",
     "evalue": "list assignment index out of range",
     "output_type": "error",
     "traceback": [
      "\u001b[1;31m---------------------------------------------------------------------------\u001b[0m",
      "\u001b[1;31mIndexError\u001b[0m                                Traceback (most recent call last)",
      "Input \u001b[1;32mIn [10]\u001b[0m, in \u001b[0;36m<cell line: 2>\u001b[1;34m()\u001b[0m\n\u001b[0;32m      1\u001b[0m \u001b[38;5;66;03m# what if i want to add one more value in the existing list l\u001b[39;00m\n\u001b[1;32m----> 2\u001b[0m l[\u001b[38;5;241m6\u001b[39m]\u001b[38;5;241m=\u001b[39m\u001b[38;5;241m70\u001b[39m\n",
      "\u001b[1;31mIndexError\u001b[0m: list assignment index out of range"
     ]
    }
   ],
   "source": [
    "# what if i want to add one more value in the existing list l\n",
    "l[6]=70 #here it gives error bcos 6 index is out of range. Total index is 5, starting from 0"
   ]
  },
  {
   "cell_type": "code",
   "execution_count": 12,
   "id": "64d5c7ff",
   "metadata": {},
   "outputs": [],
   "source": [
    "l[5]=70\n",
    "l[4]=90\n",
    "\n",
    "# This is not a way to add values in list but to edit the list"
   ]
  },
  {
   "cell_type": "code",
   "execution_count": 12,
   "id": "bf172ee5",
   "metadata": {},
   "outputs": [
    {
     "data": {
      "text/plain": [
       "[50, 34, 45, 462, 90, 70]"
      ]
     },
     "execution_count": 12,
     "metadata": {},
     "output_type": "execute_result"
    }
   ],
   "source": [
    "l"
   ]
  },
  {
   "cell_type": "markdown",
   "id": "7e39d12e",
   "metadata": {},
   "source": [
    " Here in this list we have 6 values.. indexing from 0 to 5\n",
    " let's say i want to add new value at index no 4. so what will happen to the indexes of other values.. i.e= the value already stored at index 4?\n",
    " actually they shifted towards rights. for example. see in the code below\n",
    " when we add values to the list , the size of the list will increase"
   ]
  },
  {
   "cell_type": "markdown",
   "id": "dec92bb1",
   "metadata": {},
   "source": [
    "#### There are two standard ways to add elements in the list\n",
    "1. append(): append can be used to add value in the last position of the list.. that's why we  pass only one argunment while using append()\n",
    "2. insert(): this requeres passing index value as we use it for adding value anywhere in between the list. we pass here index, and values both\n",
    "These functions are attributes of list class(means they will only apply to list)\n",
    "Class is a group of variables and functions \n",
    "These variables and function are called attributes\n",
    "#### How to use append() and insert()\n",
    "* listobject.append(value)\n",
    "* listobject.insert(index,value)\n"
   ]
  },
  {
   "cell_type": "code",
   "execution_count": 14,
   "id": "bf851cc7",
   "metadata": {},
   "outputs": [
    {
     "name": "stdout",
     "output_type": "stream",
     "text": [
      "[50, 34, 45, 462, 90, 70]\n",
      "[50, 34, 45, 462, 90, 70, 23]\n"
     ]
    }
   ],
   "source": [
    "print(l)\n",
    "l.append(23)\n",
    "print(l)\n",
    "# here 23 will get added in the last possition"
   ]
  },
  {
   "cell_type": "code",
   "execution_count": 15,
   "id": "82518b31",
   "metadata": {},
   "outputs": [
    {
     "name": "stdout",
     "output_type": "stream",
     "text": [
      "[50, 34, 23, 45, 462, 90, 70, 23]\n"
     ]
    }
   ],
   "source": [
    "l.insert(-5,23) # here 23 will be added to the -5 index and rest indexes shifted rightwords\n",
    "print(l)"
   ]
  },
  {
   "cell_type": "code",
   "execution_count": 16,
   "id": "81fdba2d",
   "metadata": {},
   "outputs": [],
   "source": [
    "# if index > last index in the list, then value will store at last index+1\n",
    "l.insert(24,34)"
   ]
  },
  {
   "cell_type": "code",
   "execution_count": 17,
   "id": "f23f4bcf",
   "metadata": {},
   "outputs": [
    {
     "name": "stdout",
     "output_type": "stream",
     "text": [
      "[50, 34, 23, 45, 462, 90, 70, 23, 34]\n"
     ]
    }
   ],
   "source": [
    "print(l)"
   ]
  },
  {
   "cell_type": "markdown",
   "id": "2af8e029",
   "metadata": {},
   "source": [
    "# Packing and Unpacking"
   ]
  },
  {
   "cell_type": "code",
   "execution_count": 3,
   "id": "c7e34151",
   "metadata": {},
   "outputs": [
    {
     "name": "stdout",
     "output_type": "stream",
     "text": [
      "5 10\n"
     ]
    }
   ],
   "source": [
    "a=5\n",
    "b=6\n",
    "c=10\n",
    "l2=[a,b,c] #packing\n",
    "print(l2[0],l2[2])"
   ]
  },
  {
   "cell_type": "code",
   "execution_count": 4,
   "id": "8d9a9e7c",
   "metadata": {},
   "outputs": [],
   "source": [
    "l1=[20,50,30] # this is unpacking \n",
    "a,b,c=l1 # the number of variable in rhs must be equal to the number of elements in list"
   ]
  },
  {
   "cell_type": "code",
   "execution_count": 5,
   "id": "2525e21d",
   "metadata": {},
   "outputs": [
    {
     "name": "stdout",
     "output_type": "stream",
     "text": [
      "20 50 30\n"
     ]
    }
   ],
   "source": [
    "print(a,b,c)"
   ]
  },
  {
   "cell_type": "markdown",
   "id": "0977bfca",
   "metadata": {},
   "source": [
    "# 10.Built in Methods\n",
    "1. len()\n",
    "2. min()\n",
    "3. max()\n",
    "4. sum()\n",
    "5. sorted()\n",
    "#### what's the difference between these functions(buil in methods) and append(),and insert() ?\n",
    "##### Answer: the append(), and insert() are attributes of list so then can be called with list object and rest are built in method , you dont need to call with list object .. you can call them with any itterable object. here you pass the itterable objects as  argunemt"
   ]
  },
  {
   "cell_type": "markdown",
   "id": "b500cd66",
   "metadata": {},
   "source": [
    "#### Len()\n",
    "It returns length of specified iterable"
   ]
  },
  {
   "cell_type": "code",
   "execution_count": 6,
   "id": "5f8e3cb8",
   "metadata": {},
   "outputs": [
    {
     "name": "stdout",
     "output_type": "stream",
     "text": [
      "5\n"
     ]
    }
   ],
   "source": [
    "\n",
    "l3=[34,34,345,342,32]\n",
    "print(len(l3))"
   ]
  },
  {
   "cell_type": "code",
   "execution_count": 7,
   "id": "d2ee0695",
   "metadata": {},
   "outputs": [
    {
     "name": "stdout",
     "output_type": "stream",
     "text": [
      "5\n"
     ]
    }
   ],
   "source": [
    "print(len(range(5)))"
   ]
  },
  {
   "cell_type": "code",
   "execution_count": 8,
   "id": "7377609c",
   "metadata": {},
   "outputs": [
    {
     "name": "stdout",
     "output_type": "stream",
     "text": [
      "6\n"
     ]
    }
   ],
   "source": [
    "print(len(\"mysirg\"))"
   ]
  },
  {
   "cell_type": "code",
   "execution_count": 9,
   "id": "7709ac8f",
   "metadata": {},
   "outputs": [
    {
     "data": {
      "text/plain": [
       "32"
      ]
     },
     "execution_count": 9,
     "metadata": {},
     "output_type": "execute_result"
    }
   ],
   "source": [
    "min(l3) #it returns minimun value"
   ]
  },
  {
   "cell_type": "code",
   "execution_count": 1,
   "id": "37f9701c",
   "metadata": {},
   "outputs": [
    {
     "ename": "TypeError",
     "evalue": "'<' not supported between instances of 'int' and 'str'",
     "output_type": "error",
     "traceback": [
      "\u001b[1;31m---------------------------------------------------------------------------\u001b[0m",
      "\u001b[1;31mTypeError\u001b[0m                                 Traceback (most recent call last)",
      "Input \u001b[1;32mIn [1]\u001b[0m, in \u001b[0;36m<cell line: 2>\u001b[1;34m()\u001b[0m\n\u001b[0;32m      1\u001b[0m j\u001b[38;5;241m=\u001b[39m[\u001b[38;5;124m\"\u001b[39m\u001b[38;5;124maje\u001b[39m\u001b[38;5;124m\"\u001b[39m,\u001b[38;5;124m\"\u001b[39m\u001b[38;5;124m4\u001b[39m\u001b[38;5;124m\"\u001b[39m,\u001b[38;5;241m45\u001b[39m]\n\u001b[1;32m----> 2\u001b[0m \u001b[38;5;28;43mmin\u001b[39;49m\u001b[43m(\u001b[49m\u001b[43mj\u001b[49m\u001b[43m)\u001b[49m\n",
      "\u001b[1;31mTypeError\u001b[0m: '<' not supported between instances of 'int' and 'str'"
     ]
    }
   ],
   "source": [
    "j=[\"aje\",\"4\",45]\n",
    "min(j) # it gives error bcos min only can evaluate between mathematical characters.\n",
    "# same is true for max(),sorted(), and sum()"
   ]
  },
  {
   "cell_type": "code",
   "execution_count": null,
   "id": "20fc9f40",
   "metadata": {},
   "outputs": [],
   "source": [
    "max(l3) "
   ]
  },
  {
   "cell_type": "code",
   "execution_count": 2,
   "id": "ca051415",
   "metadata": {
    "scrolled": true
   },
   "outputs": [
    {
     "ename": "TypeError",
     "evalue": "unsupported operand type(s) for +: 'int' and 'str'",
     "output_type": "error",
     "traceback": [
      "\u001b[1;31m---------------------------------------------------------------------------\u001b[0m",
      "\u001b[1;31mTypeError\u001b[0m                                 Traceback (most recent call last)",
      "Input \u001b[1;32mIn [2]\u001b[0m, in \u001b[0;36m<cell line: 1>\u001b[1;34m()\u001b[0m\n\u001b[1;32m----> 1\u001b[0m \u001b[38;5;28;43msum\u001b[39;49m\u001b[43m(\u001b[49m\u001b[43mj\u001b[49m\u001b[43m)\u001b[49m\n",
      "\u001b[1;31mTypeError\u001b[0m: unsupported operand type(s) for +: 'int' and 'str'"
     ]
    }
   ],
   "source": [
    "sum(j)"
   ]
  },
  {
   "cell_type": "markdown",
   "id": "b719cff8",
   "metadata": {},
   "source": [
    "# sorted()\n",
    "sorted() function always returns list of sorted object. it always sort in ascending order .. if you want to sort in descending order, you have to specify it "
   ]
  },
  {
   "cell_type": "code",
   "execution_count": 3,
   "id": "8751496c",
   "metadata": {},
   "outputs": [
    {
     "data": {
      "text/plain": [
       "['aje', '4', 45]"
      ]
     },
     "execution_count": 3,
     "metadata": {},
     "output_type": "execute_result"
    }
   ],
   "source": [
    "j"
   ]
  },
  {
   "cell_type": "code",
   "execution_count": 4,
   "id": "9c3dada6",
   "metadata": {
    "scrolled": true
   },
   "outputs": [
    {
     "ename": "TypeError",
     "evalue": "'<' not supported between instances of 'int' and 'str'",
     "output_type": "error",
     "traceback": [
      "\u001b[1;31m---------------------------------------------------------------------------\u001b[0m",
      "\u001b[1;31mTypeError\u001b[0m                                 Traceback (most recent call last)",
      "Input \u001b[1;32mIn [4]\u001b[0m, in \u001b[0;36m<cell line: 1>\u001b[1;34m()\u001b[0m\n\u001b[1;32m----> 1\u001b[0m \u001b[38;5;28;43msorted\u001b[39;49m\u001b[43m(\u001b[49m\u001b[43mj\u001b[49m\u001b[43m)\u001b[49m\n",
      "\u001b[1;31mTypeError\u001b[0m: '<' not supported between instances of 'int' and 'str'"
     ]
    }
   ],
   "source": [
    "sorted(j)"
   ]
  },
  {
   "cell_type": "code",
   "execution_count": 19,
   "id": "b3125b75",
   "metadata": {},
   "outputs": [],
   "source": [
    "a=[\"ad\",'anb',\"gu\"]"
   ]
  },
  {
   "cell_type": "code",
   "execution_count": 18,
   "id": "84af7087",
   "metadata": {},
   "outputs": [
    {
     "data": {
      "text/plain": [
       "[32, 34, 34, 342, 345]"
      ]
     },
     "execution_count": 18,
     "metadata": {},
     "output_type": "execute_result"
    }
   ],
   "source": [
    "sorted(l3)"
   ]
  },
  {
   "cell_type": "code",
   "execution_count": 21,
   "id": "907c05a4",
   "metadata": {},
   "outputs": [
    {
     "data": {
      "text/plain": [
       "[34, 34, 345, 342, 32]"
      ]
     },
     "execution_count": 21,
     "metadata": {},
     "output_type": "execute_result"
    }
   ],
   "source": [
    "l3 #  sorted  doesn't change the list. it just return the sorted list"
   ]
  },
  {
   "cell_type": "code",
   "execution_count": 22,
   "id": "57200fb7",
   "metadata": {},
   "outputs": [
    {
     "name": "stdout",
     "output_type": "stream",
     "text": [
      "[32, 34, 34, 342, 345]\n"
     ]
    }
   ],
   "source": [
    "# if you want to change the list with sorted value , you can assign the sorted values within new list\n",
    "l4=sorted(l3)\n",
    "print(l4)"
   ]
  },
  {
   "cell_type": "code",
   "execution_count": 20,
   "id": "a01084a4",
   "metadata": {},
   "outputs": [
    {
     "data": {
      "text/plain": [
       "['ad', 'anb', 'gu']"
      ]
     },
     "execution_count": 20,
     "metadata": {},
     "output_type": "execute_result"
    }
   ],
   "source": [
    "sorted(a)"
   ]
  },
  {
   "cell_type": "markdown",
   "id": "94c9661c",
   "metadata": {},
   "source": [
    "# 11. list() method\n",
    "list method can take at most 1 argunment and that one argunment must be iterable"
   ]
  },
  {
   "cell_type": "code",
   "execution_count": 29,
   "id": "d61a5af8",
   "metadata": {},
   "outputs": [
    {
     "data": {
      "text/plain": [
       "[]"
      ]
     },
     "execution_count": 29,
     "metadata": {},
     "output_type": "execute_result"
    }
   ],
   "source": [
    "l1=list()\n",
    "l1"
   ]
  },
  {
   "cell_type": "code",
   "execution_count": 2,
   "id": "9c338a13",
   "metadata": {},
   "outputs": [
    {
     "data": {
      "text/plain": [
       "['a', 'b', 'h', 'i']"
      ]
     },
     "execution_count": 2,
     "metadata": {},
     "output_type": "execute_result"
    }
   ],
   "source": [
    "k=list(\"abhi\")\n",
    "k"
   ]
  },
  {
   "cell_type": "code",
   "execution_count": 25,
   "id": "a8e9661e",
   "metadata": {
    "scrolled": true
   },
   "outputs": [
    {
     "ename": "TypeError",
     "evalue": "'int' object is not iterable",
     "output_type": "error",
     "traceback": [
      "\u001b[1;31m---------------------------------------------------------------------------\u001b[0m",
      "\u001b[1;31mTypeError\u001b[0m                                 Traceback (most recent call last)",
      "Input \u001b[1;32mIn [25]\u001b[0m, in \u001b[0;36m<cell line: 1>\u001b[1;34m()\u001b[0m\n\u001b[1;32m----> 1\u001b[0m l2\u001b[38;5;241m=\u001b[39m\u001b[38;5;28;43mlist\u001b[39;49m\u001b[43m(\u001b[49m\u001b[38;5;241;43m10\u001b[39;49m\u001b[43m)\u001b[49m\n",
      "\u001b[1;31mTypeError\u001b[0m: 'int' object is not iterable"
     ]
    }
   ],
   "source": [
    "l2=list(10) #since 10 is int type and not iterable,, it is giving error"
   ]
  },
  {
   "cell_type": "code",
   "execution_count": 27,
   "id": "6c16608d",
   "metadata": {},
   "outputs": [
    {
     "ename": "TypeError",
     "evalue": "list expected at most 1 argument, got 3",
     "output_type": "error",
     "traceback": [
      "\u001b[1;31m---------------------------------------------------------------------------\u001b[0m",
      "\u001b[1;31mTypeError\u001b[0m                                 Traceback (most recent call last)",
      "Input \u001b[1;32mIn [27]\u001b[0m, in \u001b[0;36m<cell line: 1>\u001b[1;34m()\u001b[0m\n\u001b[1;32m----> 1\u001b[0m \u001b[38;5;28;43mlist\u001b[39;49m\u001b[43m(\u001b[49m\u001b[38;5;241;43m14\u001b[39;49m\u001b[43m,\u001b[49m\u001b[38;5;241;43m35\u001b[39;49m\u001b[43m,\u001b[49m\u001b[38;5;241;43m35\u001b[39;49m\u001b[43m)\u001b[49m\n",
      "\u001b[1;31mTypeError\u001b[0m: list expected at most 1 argument, got 3"
     ]
    }
   ],
   "source": [
    "list(14,35,35)"
   ]
  },
  {
   "cell_type": "code",
   "execution_count": 26,
   "id": "6f8def00",
   "metadata": {},
   "outputs": [
    {
     "name": "stdout",
     "output_type": "stream",
     "text": [
      "['A', 'b', 'h', 'i', 's', 'h', 'e', 'k']\n"
     ]
    }
   ],
   "source": [
    "l5=list(\"Abhishek\")\n",
    "print(l5)"
   ]
  },
  {
   "cell_type": "code",
   "execution_count": 28,
   "id": "56e58b3d",
   "metadata": {},
   "outputs": [
    {
     "data": {
      "text/plain": [
       "8"
      ]
     },
     "execution_count": 28,
     "metadata": {},
     "output_type": "execute_result"
    }
   ],
   "source": [
    "len(l5)"
   ]
  },
  {
   "cell_type": "code",
   "execution_count": 29,
   "id": "e5fd4024",
   "metadata": {},
   "outputs": [],
   "source": [
    "l4=list(range(2,12,3))"
   ]
  },
  {
   "cell_type": "code",
   "execution_count": 30,
   "id": "60253850",
   "metadata": {},
   "outputs": [
    {
     "name": "stdout",
     "output_type": "stream",
     "text": [
      "[2, 5, 8, 11]\n"
     ]
    }
   ],
   "source": [
    "print(l4)"
   ]
  },
  {
   "cell_type": "code",
   "execution_count": 31,
   "id": "a6a7988d",
   "metadata": {},
   "outputs": [],
   "source": [
    "L2=list([3,5,3])"
   ]
  },
  {
   "cell_type": "code",
   "execution_count": 32,
   "id": "71b9fc21",
   "metadata": {},
   "outputs": [
    {
     "name": "stdout",
     "output_type": "stream",
     "text": [
      "[3, 5, 3]\n"
     ]
    }
   ],
   "source": [
    "print(L2)"
   ]
  },
  {
   "cell_type": "markdown",
   "id": "7327956d",
   "metadata": {},
   "source": [
    "# 12.Comparison operator on list"
   ]
  },
  {
   "cell_type": "code",
   "execution_count": 37,
   "id": "6e762d55",
   "metadata": {},
   "outputs": [],
   "source": [
    "l1=[1,2,3]\n",
    "l2=[2,3,1]\n",
    "l3=[1,2,3,4,5]\n",
    "l4=[1,2,3]"
   ]
  },
  {
   "cell_type": "code",
   "execution_count": 38,
   "id": "741a7f9f",
   "metadata": {},
   "outputs": [
    {
     "data": {
      "text/plain": [
       "False"
      ]
     },
     "execution_count": 38,
     "metadata": {},
     "output_type": "execute_result"
    }
   ],
   "source": [
    "l1==l2"
   ]
  },
  {
   "cell_type": "code",
   "execution_count": 40,
   "id": "066ffcf1",
   "metadata": {},
   "outputs": [
    {
     "data": {
      "text/plain": [
       "True"
      ]
     },
     "execution_count": 40,
     "metadata": {},
     "output_type": "execute_result"
    }
   ],
   "source": [
    "l1==l4"
   ]
  },
  {
   "cell_type": "code",
   "execution_count": 41,
   "id": "f49fabe0",
   "metadata": {},
   "outputs": [
    {
     "data": {
      "text/plain": [
       "False"
      ]
     },
     "execution_count": 41,
     "metadata": {},
     "output_type": "execute_result"
    }
   ],
   "source": [
    "l1>l3 # it evaluates the  orders values.. like here it will evaluate 1st element of both the list\n",
    "# if both comes to be equal, it will evaluate next"
   ]
  },
  {
   "cell_type": "markdown",
   "id": "a6bfcd86",
   "metadata": {},
   "source": [
    "# 13. concatenation opertors"
   ]
  },
  {
   "cell_type": "code",
   "execution_count": 43,
   "id": "3ef1e210",
   "metadata": {},
   "outputs": [
    {
     "name": "stdout",
     "output_type": "stream",
     "text": [
      "[34, 2, 35, 3, 46, 32]\n"
     ]
    }
   ],
   "source": [
    "a=[34,2,35]\n",
    "b=[3,46,32]\n",
    "c=a+b\n",
    "print(c)"
   ]
  },
  {
   "cell_type": "code",
   "execution_count": 45,
   "id": "6df83fe7",
   "metadata": {},
   "outputs": [
    {
     "name": "stdout",
     "output_type": "stream",
     "text": [
      "[34, 2, 35, 3, 46, 32, 3, 46, 32, 3, 46, 32]\n"
     ]
    }
   ],
   "source": [
    "a=a+b\n",
    "print(a+b)"
   ]
  },
  {
   "cell_type": "code",
   "execution_count": 46,
   "id": "7449a0d1",
   "metadata": {},
   "outputs": [
    {
     "data": {
      "text/plain": [
       "[34, 2, 35, 3, 46, 32, 3, 46, 32]"
      ]
     },
     "execution_count": 46,
     "metadata": {},
     "output_type": "execute_result"
    }
   ],
   "source": [
    "a"
   ]
  },
  {
   "cell_type": "markdown",
   "id": "988b2013",
   "metadata": {},
   "source": [
    "# 14.Repetition Operator"
   ]
  },
  {
   "cell_type": "code",
   "execution_count": 47,
   "id": "30b74991",
   "metadata": {},
   "outputs": [
    {
     "data": {
      "text/plain": [
       "[4, 46, 4, 46, 4, 46, 4, 46]"
      ]
     },
     "execution_count": 47,
     "metadata": {},
     "output_type": "execute_result"
    }
   ],
   "source": [
    "d=[4,46]\n",
    "d*4"
   ]
  },
  {
   "cell_type": "code",
   "execution_count": 48,
   "id": "c4dfc948",
   "metadata": {},
   "outputs": [
    {
     "data": {
      "text/plain": [
       "[4, 46]"
      ]
     },
     "execution_count": 48,
     "metadata": {},
     "output_type": "execute_result"
    }
   ],
   "source": [
    "d"
   ]
  },
  {
   "cell_type": "code",
   "execution_count": 49,
   "id": "59d04b52",
   "metadata": {},
   "outputs": [
    {
     "data": {
      "text/plain": [
       "[4, 46, 4, 46, 4, 46, 4, 46, 4, 46]"
      ]
     },
     "execution_count": 49,
     "metadata": {},
     "output_type": "execute_result"
    }
   ],
   "source": [
    "5*d"
   ]
  },
  {
   "cell_type": "code",
   "execution_count": 50,
   "id": "dbda74b1",
   "metadata": {},
   "outputs": [
    {
     "data": {
      "text/plain": [
       "[4, 46]"
      ]
     },
     "execution_count": 50,
     "metadata": {},
     "output_type": "execute_result"
    }
   ],
   "source": [
    "d"
   ]
  },
  {
   "cell_type": "code",
   "execution_count": 51,
   "id": "867858fc",
   "metadata": {},
   "outputs": [],
   "source": [
    "d=d*2"
   ]
  },
  {
   "cell_type": "code",
   "execution_count": 52,
   "id": "b2bb5a13",
   "metadata": {},
   "outputs": [
    {
     "data": {
      "text/plain": [
       "[4, 46, 4, 46]"
      ]
     },
     "execution_count": 52,
     "metadata": {},
     "output_type": "execute_result"
    }
   ],
   "source": [
    "d"
   ]
  },
  {
   "cell_type": "markdown",
   "id": "2de37ab9",
   "metadata": {},
   "source": [
    "# 15. List of list"
   ]
  },
  {
   "cell_type": "code",
   "execution_count": 55,
   "id": "ffe3971b",
   "metadata": {},
   "outputs": [],
   "source": [
    "lol=[[3,4,6],[\"ahr\",45,\"Abhi\"],[34,464,23]]"
   ]
  },
  {
   "cell_type": "code",
   "execution_count": 56,
   "id": "e9f67d67",
   "metadata": {},
   "outputs": [
    {
     "data": {
      "text/plain": [
       "[3, 4, 6]"
      ]
     },
     "execution_count": 56,
     "metadata": {},
     "output_type": "execute_result"
    }
   ],
   "source": [
    "lol[0]"
   ]
  },
  {
   "cell_type": "code",
   "execution_count": 57,
   "id": "4986697d",
   "metadata": {},
   "outputs": [
    {
     "data": {
      "text/plain": [
       "6"
      ]
     },
     "execution_count": 57,
     "metadata": {},
     "output_type": "execute_result"
    }
   ],
   "source": [
    "lol[0][2]"
   ]
  },
  {
   "cell_type": "code",
   "execution_count": 58,
   "id": "290dea71",
   "metadata": {},
   "outputs": [
    {
     "data": {
      "text/plain": [
       "45"
      ]
     },
     "execution_count": 58,
     "metadata": {},
     "output_type": "execute_result"
    }
   ],
   "source": [
    "lol[1][1]"
   ]
  },
  {
   "cell_type": "code",
   "execution_count": 59,
   "id": "a5fc21b0",
   "metadata": {},
   "outputs": [
    {
     "data": {
      "text/plain": [
       "'Abhi'"
      ]
     },
     "execution_count": 59,
     "metadata": {},
     "output_type": "execute_result"
    }
   ],
   "source": [
    "lol[1][2]"
   ]
  },
  {
   "cell_type": "code",
   "execution_count": 60,
   "id": "a83417f3",
   "metadata": {},
   "outputs": [
    {
     "data": {
      "text/plain": [
       "464"
      ]
     },
     "execution_count": 60,
     "metadata": {},
     "output_type": "execute_result"
    }
   ],
   "source": [
    "lol[-1][-2]"
   ]
  },
  {
   "cell_type": "code",
   "execution_count": 65,
   "id": "900c2816",
   "metadata": {},
   "outputs": [
    {
     "data": {
      "text/plain": [
       "[[3, 4, 6], ['ahr', 45, 'Abhi'], [34, 464, 23]]"
      ]
     },
     "execution_count": 65,
     "metadata": {},
     "output_type": "execute_result"
    }
   ],
   "source": [
    "lol"
   ]
  },
  {
   "cell_type": "code",
   "execution_count": 73,
   "id": "542e0a78",
   "metadata": {},
   "outputs": [
    {
     "name": "stdout",
     "output_type": "stream",
     "text": [
      "3 4 6 \n",
      "ahr 45 Abhi \n",
      "34 464 23 \n"
     ]
    }
   ],
   "source": [
    "for x in lol:\n",
    "    for y in x:\n",
    "        print(y,end=\" \")\n",
    "    print()"
   ]
  },
  {
   "cell_type": "markdown",
   "id": "9a13cc53",
   "metadata": {},
   "source": [
    "# 16.list object methods\n",
    "* append() already studied\n",
    "* insert() already studied\n",
    "* remove(): it removes first occurence of specified element. it gives error if the element is not present in the list\n",
    "* pop(): Remove and return last element optionally you can pass index number to pop specific element\n",
    "* reverse(): reverse the list\n",
    "* sort(): sort list elements\n",
    "* index(): Return index of first occurence of specified element\n",
    "* count(): Count number of occurence of specified element\n",
    "* clear(): Remove all the elements"
   ]
  },
  {
   "cell_type": "code",
   "execution_count": 6,
   "id": "7cefc20b",
   "metadata": {},
   "outputs": [
    {
     "data": {
      "text/plain": [
       "[35, 23, 53, 445, 23, 25, 78, 22, 34, 35]"
      ]
     },
     "execution_count": 6,
     "metadata": {},
     "output_type": "execute_result"
    }
   ],
   "source": [
    "d=[23,35,23,53,445,23,25,78,22,34,35]\n",
    "d.remove(23)\n",
    "d"
   ]
  },
  {
   "cell_type": "code",
   "execution_count": 15,
   "id": "cfa7bcc5",
   "metadata": {},
   "outputs": [
    {
     "name": "stdout",
     "output_type": "stream",
     "text": [
      "[2, 34, 5, 'a', 'g']\n"
     ]
    }
   ],
   "source": [
    "b=[2,34,5]\n",
    "b.extend(\"ag\")\n",
    "print(b)"
   ]
  },
  {
   "cell_type": "code",
   "execution_count": 25,
   "id": "8b3a8497",
   "metadata": {},
   "outputs": [
    {
     "data": {
      "text/plain": [
       "[2, 3, 33, 23, 35, 21, 4, 5, 6, 7, 8, 90]"
      ]
     },
     "execution_count": 25,
     "metadata": {},
     "output_type": "execute_result"
    }
   ],
   "source": [
    "b=[1,2,3,33,23,35,21,4,5,6,7,8,90]\n",
    "b.remove(1)\n",
    "b"
   ]
  },
  {
   "cell_type": "code",
   "execution_count": 26,
   "id": "4c13f7e5",
   "metadata": {},
   "outputs": [
    {
     "data": {
      "text/plain": [
       "[2, 3, 33, 23, 35, 21, 4, 5, 6, 7, 8]"
      ]
     },
     "execution_count": 26,
     "metadata": {},
     "output_type": "execute_result"
    }
   ],
   "source": [
    "b.pop()\n",
    "b"
   ]
  },
  {
   "cell_type": "code",
   "execution_count": 27,
   "id": "cfad07ec",
   "metadata": {},
   "outputs": [
    {
     "data": {
      "text/plain": [
       "5"
      ]
     },
     "execution_count": 27,
     "metadata": {},
     "output_type": "execute_result"
    }
   ],
   "source": [
    "b.pop(7)"
   ]
  },
  {
   "cell_type": "code",
   "execution_count": 28,
   "id": "bfc02174",
   "metadata": {},
   "outputs": [
    {
     "data": {
      "text/plain": [
       "[2, 3, 33, 23, 35, 21, 4, 6, 7, 8]"
      ]
     },
     "execution_count": 28,
     "metadata": {},
     "output_type": "execute_result"
    }
   ],
   "source": [
    "b"
   ]
  },
  {
   "cell_type": "code",
   "execution_count": 34,
   "id": "adfec80c",
   "metadata": {},
   "outputs": [
    {
     "data": {
      "text/plain": [
       "1"
      ]
     },
     "execution_count": 34,
     "metadata": {},
     "output_type": "execute_result"
    }
   ],
   "source": [
    "b.index(3)"
   ]
  },
  {
   "cell_type": "code",
   "execution_count": null,
   "id": "63a549af",
   "metadata": {},
   "outputs": [],
   "source": []
  },
  {
   "cell_type": "code",
   "execution_count": null,
   "id": "0cffbfa8",
   "metadata": {},
   "outputs": [],
   "source": []
  },
  {
   "cell_type": "code",
   "execution_count": null,
   "id": "196eba0b",
   "metadata": {},
   "outputs": [],
   "source": []
  },
  {
   "cell_type": "code",
   "execution_count": 8,
   "id": "03844e59",
   "metadata": {},
   "outputs": [
    {
     "data": {
      "text/plain": [
       "[35, 53, 445, 25, 78, 22, 34, 35]"
      ]
     },
     "execution_count": 8,
     "metadata": {},
     "output_type": "execute_result"
    }
   ],
   "source": [
    "d.remove(23)\n",
    "d"
   ]
  },
  {
   "cell_type": "code",
   "execution_count": 10,
   "id": "0d24cc2d",
   "metadata": {},
   "outputs": [
    {
     "data": {
      "text/plain": [
       "[35, 53, 445, 25, 78, 22, 34, 35]"
      ]
     },
     "execution_count": 10,
     "metadata": {},
     "output_type": "execute_result"
    }
   ],
   "source": [
    "d.reverse()\n",
    "d"
   ]
  },
  {
   "cell_type": "code",
   "execution_count": 23,
   "id": "37e0f971",
   "metadata": {},
   "outputs": [
    {
     "name": "stdout",
     "output_type": "stream",
     "text": [
      "[35, 34, 22, 78, 25, 445, 53, 35]\n"
     ]
    },
    {
     "data": {
      "text/plain": [
       "[35, 53, 445, 25, 78, 22, 34, 35]"
      ]
     },
     "execution_count": 23,
     "metadata": {},
     "output_type": "execute_result"
    }
   ],
   "source": [
    "print(d)\n",
    "d.reverse()\n",
    "d"
   ]
  },
  {
   "cell_type": "code",
   "execution_count": 21,
   "id": "56a284fb",
   "metadata": {},
   "outputs": [
    {
     "data": {
      "text/plain": [
       "[231, 23, 32, 35, 2]"
      ]
     },
     "execution_count": 21,
     "metadata": {},
     "output_type": "execute_result"
    }
   ],
   "source": [
    "a=[2,35,32,23,231]\n",
    "a.reverse()\n",
    "a"
   ]
  },
  {
   "cell_type": "markdown",
   "id": "39e32a8f",
   "metadata": {},
   "source": [
    "# 17.list comprehension\n",
    "[ expression for variable in iterable]"
   ]
  },
  {
   "cell_type": "code",
   "execution_count": 75,
   "id": "3d88c2d9",
   "metadata": {},
   "outputs": [
    {
     "data": {
      "text/plain": [
       "[0, 3, 6, 9, 12]"
      ]
     },
     "execution_count": 75,
     "metadata": {},
     "output_type": "execute_result"
    }
   ],
   "source": [
    "l6=[x*3 for x in range(5)]\n",
    "l6"
   ]
  },
  {
   "cell_type": "code",
   "execution_count": 78,
   "id": "1f6db713",
   "metadata": {},
   "outputs": [
    {
     "data": {
      "text/plain": [
       "[3, 4, 5, 6, 7]"
      ]
     },
     "execution_count": 78,
     "metadata": {},
     "output_type": "execute_result"
    }
   ],
   "source": [
    "l7=[3+x for x in range(5)]\n",
    "l7"
   ]
  },
  {
   "cell_type": "code",
   "execution_count": 79,
   "id": "4ca3c909",
   "metadata": {
    "scrolled": true
   },
   "outputs": [
    {
     "data": {
      "text/plain": [
       "['3a', '3b', '3h', '3i', '3s', '3h', '3e', '3k']"
      ]
     },
     "execution_count": 79,
     "metadata": {},
     "output_type": "execute_result"
    }
   ],
   "source": [
    "L=[\"3\"+x for x in \"abhishek\"]\n",
    "L\n"
   ]
  },
  {
   "cell_type": "code",
   "execution_count": 12,
   "id": "39ecadfc",
   "metadata": {},
   "outputs": [
    {
     "name": "stdout",
     "output_type": "stream",
     "text": [
      "Enter the number3\n"
     ]
    },
    {
     "data": {
      "text/plain": [
       "[28.259999999999998]"
      ]
     },
     "execution_count": 12,
     "metadata": {},
     "output_type": "execute_result"
    }
   ],
   "source": [
    "[3.14*int(x)*int(x) for x in input(\"Enter the number\")]"
   ]
  },
  {
   "cell_type": "code",
   "execution_count": 19,
   "id": "41aed51f",
   "metadata": {},
   "outputs": [
    {
     "name": "stdout",
     "output_type": "stream",
     "text": [
      "Enter the number43246\n"
     ]
    },
    {
     "data": {
      "text/plain": [
       "[4, 3, 2, 4, 6]"
      ]
     },
     "execution_count": 19,
     "metadata": {},
     "output_type": "execute_result"
    }
   ],
   "source": [
    "[int(x) for x in input(\"Enter the number\")]"
   ]
  },
  {
   "cell_type": "code",
   "execution_count": 21,
   "id": "f977cb6f",
   "metadata": {},
   "outputs": [
    {
     "name": "stdout",
     "output_type": "stream",
     "text": [
      "[4, 3, 2, 4, 6]\n"
     ]
    }
   ],
   "source": [
    "print(j)"
   ]
  },
  {
   "cell_type": "code",
   "execution_count": 25,
   "id": "e9a9b938",
   "metadata": {},
   "outputs": [
    {
     "name": "stdout",
     "output_type": "stream",
     "text": [
      "4 3 2 4 6 "
     ]
    }
   ],
   "source": [
    "for s in j:\n",
    "    print(str(s),end=\" \")"
   ]
  },
  {
   "cell_type": "code",
   "execution_count": 33,
   "id": "b5e6ff3c",
   "metadata": {},
   "outputs": [
    {
     "ename": "NameError",
     "evalue": "name 'm' is not defined",
     "output_type": "error",
     "traceback": [
      "\u001b[1;31m---------------------------------------------------------------------------\u001b[0m",
      "\u001b[1;31mNameError\u001b[0m                                 Traceback (most recent call last)",
      "Input \u001b[1;32mIn [33]\u001b[0m, in \u001b[0;36m<cell line: 1>\u001b[1;34m()\u001b[0m\n\u001b[1;32m----> 1\u001b[0m \u001b[38;5;28mprint\u001b[39m(\u001b[43mm\u001b[49m)\n",
      "\u001b[1;31mNameError\u001b[0m: name 'm' is not defined"
     ]
    }
   ],
   "source": [
    "print(m)"
   ]
  },
  {
   "cell_type": "code",
   "execution_count": 31,
   "id": "03ca761e",
   "metadata": {},
   "outputs": [
    {
     "name": "stdout",
     "output_type": "stream",
     "text": [
      "4\n"
     ]
    },
    {
     "data": {
      "text/plain": [
       "NoneType"
      ]
     },
     "execution_count": 31,
     "metadata": {},
     "output_type": "execute_result"
    }
   ],
   "source": [
    "type(print(4))"
   ]
  },
  {
   "cell_type": "markdown",
   "id": "5eabcae4",
   "metadata": {},
   "source": [
    "# 18. User input"
   ]
  },
  {
   "cell_type": "code",
   "execution_count": 3,
   "id": "b473e0d9",
   "metadata": {},
   "outputs": [
    {
     "name": "stdout",
     "output_type": "stream",
     "text": [
      "Enter a list\n",
      "enter the list[4,6]\n",
      "['[', '4', ',', '6', ']']\n"
     ]
    }
   ],
   "source": [
    "print(\"Enter a list\")\n",
    "l4=list(input(\"enter the list\"))\n",
    "print(l4)"
   ]
  },
  {
   "cell_type": "code",
   "execution_count": 85,
   "id": "f73a3c07",
   "metadata": {},
   "outputs": [
    {
     "name": "stdout",
     "output_type": "stream",
     "text": [
      "enter the list[3,4,5]\n",
      "['[', '3', ',', '4', ',', '5', ']']\n"
     ]
    }
   ],
   "source": [
    "l4=list(input(\"enter the list\"))\n",
    "print(l4)"
   ]
  },
  {
   "cell_type": "code",
   "execution_count": 4,
   "id": "bf255e83",
   "metadata": {},
   "outputs": [
    {
     "name": "stdout",
     "output_type": "stream",
     "text": [
      "Enter some number\n",
      "[4,5,6]\n",
      "[4, 5, 6]\n"
     ]
    }
   ],
   "source": [
    "print(\"Enter some number\")\n",
    "l4=eval(input())\n",
    "print(l4)"
   ]
  },
  {
   "cell_type": "markdown",
   "id": "7f527afc",
   "metadata": {},
   "source": [
    "# 19.Mutability and hashability\n",
    "* Mutable objects are changable\n",
    "* immutable objects are not changable\n",
    "* All immutable objects are hashable, but not all hashable objetcs are immutable\n",
    "* Hashable is a feature of python objects that tells if  the object has a hash value or not, if it has hash value, it does not change during its entire lifetime\n"
   ]
  },
  {
   "cell_type": "code",
   "execution_count": null,
   "id": "9d9cc1a3",
   "metadata": {},
   "outputs": [],
   "source": []
  }
 ],
 "metadata": {
  "kernelspec": {
   "display_name": "Python 3 (ipykernel)",
   "language": "python",
   "name": "python3"
  },
  "language_info": {
   "codemirror_mode": {
    "name": "ipython",
    "version": 3
   },
   "file_extension": ".py",
   "mimetype": "text/x-python",
   "name": "python",
   "nbconvert_exporter": "python",
   "pygments_lexer": "ipython3",
   "version": "3.9.13"
  }
 },
 "nbformat": 4,
 "nbformat_minor": 5
}
