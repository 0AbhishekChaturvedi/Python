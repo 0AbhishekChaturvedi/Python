{
 "cells": [
  {
   "cell_type": "markdown",
   "id": "f928e0b2",
   "metadata": {},
   "source": [
    "# String\n",
    "### Agenda today\n",
    "1. str introduction\n",
    "2. Creating str object\n",
    "3. indexing\n",
    "4. accessing str elements\n",
    "5. built-in methods\n",
    "6. concatenation andd repetition\n",
    "7. comparison operator\n",
    "8. str object methods\n",
    "9. format\n",
    "10. split and join\n",
    "11. slicing operator"
   ]
  },
  {
   "cell_type": "markdown",
   "id": "04d3d81f",
   "metadata": {},
   "source": [
    "# 1.Str inroduction\n",
    "* Str is a class\n",
    "* str is immutable\n",
    "* str is iterable\n",
    "* str is hashable\n",
    "* str is a sequence"
   ]
  },
  {
   "cell_type": "markdown",
   "id": "00b679a2",
   "metadata": {},
   "source": [
    "# 2. How to create str object"
   ]
  },
  {
   "cell_type": "code",
   "execution_count": 1,
   "id": "9d7f2de5",
   "metadata": {},
   "outputs": [],
   "source": [
    "s1=\"MysirG\"\n",
    "s2='MysirG'\n",
    "s3=\"\"\"MysirG\"\"\"\n",
    "s4='''MysirG'''\n",
    "s5=str()\n",
    "s6=str(125)\n",
    "s7=str(34.12)"
   ]
  },
  {
   "cell_type": "code",
   "execution_count": 2,
   "id": "1a61cc24",
   "metadata": {},
   "outputs": [
    {
     "name": "stdout",
     "output_type": "stream",
     "text": [
      "34.12\n",
      "125\n"
     ]
    }
   ],
   "source": [
    "print(s7)\n",
    "print(s6)"
   ]
  },
  {
   "cell_type": "code",
   "execution_count": 3,
   "id": "2f6416c1",
   "metadata": {},
   "outputs": [
    {
     "data": {
      "text/plain": [
       "'MysirG'"
      ]
     },
     "execution_count": 3,
     "metadata": {},
     "output_type": "execute_result"
    }
   ],
   "source": [
    "s3"
   ]
  },
  {
   "cell_type": "markdown",
   "id": "f5728d6e",
   "metadata": {},
   "source": [
    "# 3.indexing\n",
    "indexing is same as list "
   ]
  },
  {
   "cell_type": "markdown",
   "id": "f78ae681",
   "metadata": {},
   "source": [
    "# 4.Accessing str elements\n",
    "1. str[index]\n",
    "2. print(str)\n",
    "3. for loop\n",
    "4. slicing operator: We will learn it later"
   ]
  },
  {
   "cell_type": "code",
   "execution_count": 4,
   "id": "dcdfdd46",
   "metadata": {},
   "outputs": [
    {
     "name": "stdout",
     "output_type": "stream",
     "text": [
      "M y r\n"
     ]
    }
   ],
   "source": [
    "s1=\"MySirG\"\n",
    "print(s1[0],s1[1],s1[-2])"
   ]
  },
  {
   "cell_type": "code",
   "execution_count": 5,
   "id": "03fe24de",
   "metadata": {},
   "outputs": [
    {
     "name": "stdout",
     "output_type": "stream",
     "text": [
      "M\n",
      "y\n",
      "S\n",
      "i\n",
      "r\n",
      "G\n"
     ]
    }
   ],
   "source": [
    "for x in s1:\n",
    "    print(x)"
   ]
  },
  {
   "cell_type": "markdown",
   "id": "182c4a16",
   "metadata": {},
   "source": [
    "# 5.Built in method\n",
    "* len()\n",
    "* min()\n",
    "* max()\n",
    "* sum()\n",
    "* sorted()"
   ]
  },
  {
   "cell_type": "code",
   "execution_count": 6,
   "id": "73eadb84",
   "metadata": {},
   "outputs": [
    {
     "data": {
      "text/plain": [
       "6"
      ]
     },
     "execution_count": 6,
     "metadata": {},
     "output_type": "execute_result"
    }
   ],
   "source": [
    "len(s1)\n"
   ]
  },
  {
   "cell_type": "code",
   "execution_count": 7,
   "id": "781e6320",
   "metadata": {},
   "outputs": [
    {
     "data": {
      "text/plain": [
       "'G'"
      ]
     },
     "execution_count": 7,
     "metadata": {},
     "output_type": "execute_result"
    }
   ],
   "source": [
    "min(s1) # The smallest alphabetically according to its unicode"
   ]
  },
  {
   "cell_type": "code",
   "execution_count": 8,
   "id": "5f58df2b",
   "metadata": {},
   "outputs": [
    {
     "data": {
      "text/plain": [
       "'y'"
      ]
     },
     "execution_count": 8,
     "metadata": {},
     "output_type": "execute_result"
    }
   ],
   "source": [
    "max(s1) # The largest alphabetically"
   ]
  },
  {
   "cell_type": "code",
   "execution_count": 9,
   "id": "dd655001",
   "metadata": {},
   "outputs": [
    {
     "data": {
      "text/plain": [
       "' '"
      ]
     },
     "execution_count": 9,
     "metadata": {},
     "output_type": "execute_result"
    }
   ],
   "source": [
    "S1=\"MySirG Education Services\"\n",
    "min(S1) #it will return space"
   ]
  },
  {
   "cell_type": "code",
   "execution_count": 10,
   "id": "49b88a27",
   "metadata": {},
   "outputs": [
    {
     "data": {
      "text/plain": [
       "'y'"
      ]
     },
     "execution_count": 10,
     "metadata": {},
     "output_type": "execute_result"
    }
   ],
   "source": [
    "max(S1)"
   ]
  },
  {
   "cell_type": "code",
   "execution_count": 11,
   "id": "8a85139e",
   "metadata": {},
   "outputs": [
    {
     "ename": "TypeError",
     "evalue": "unsupported operand type(s) for +: 'int' and 'str'",
     "output_type": "error",
     "traceback": [
      "\u001b[1;31m---------------------------------------------------------------------------\u001b[0m",
      "\u001b[1;31mTypeError\u001b[0m                                 Traceback (most recent call last)",
      "Input \u001b[1;32mIn [11]\u001b[0m, in \u001b[0;36m<cell line: 1>\u001b[1;34m()\u001b[0m\n\u001b[1;32m----> 1\u001b[0m \u001b[38;5;28;43msum\u001b[39;49m\u001b[43m(\u001b[49m\u001b[43ms1\u001b[49m\u001b[43m)\u001b[49m\n",
      "\u001b[1;31mTypeError\u001b[0m: unsupported operand type(s) for +: 'int' and 'str'"
     ]
    }
   ],
   "source": [
    "sum(s1)"
   ]
  },
  {
   "cell_type": "code",
   "execution_count": 12,
   "id": "f107795f",
   "metadata": {
    "scrolled": false
   },
   "outputs": [
    {
     "ename": "TypeError",
     "evalue": "unsupported operand type(s) for +: 'int' and 'str'",
     "output_type": "error",
     "traceback": [
      "\u001b[1;31m---------------------------------------------------------------------------\u001b[0m",
      "\u001b[1;31mTypeError\u001b[0m                                 Traceback (most recent call last)",
      "Input \u001b[1;32mIn [12]\u001b[0m, in \u001b[0;36m<cell line: 3>\u001b[1;34m()\u001b[0m\n\u001b[0;32m      1\u001b[0m \u001b[38;5;66;03m# print the sum of the digits stored in string s2\u001b[39;00m\n\u001b[0;32m      2\u001b[0m s2\u001b[38;5;241m=\u001b[39m\u001b[38;5;124m\"\u001b[39m\u001b[38;5;124m1234\u001b[39m\u001b[38;5;124m\"\u001b[39m\n\u001b[1;32m----> 3\u001b[0m \u001b[38;5;28;43msum\u001b[39;49m\u001b[43m(\u001b[49m\u001b[43ms2\u001b[49m\u001b[43m)\u001b[49m\n",
      "\u001b[1;31mTypeError\u001b[0m: unsupported operand type(s) for +: 'int' and 'str'"
     ]
    }
   ],
   "source": [
    "# print the sum of the digits stored in string s2\n",
    "s2=\"1234\"\n",
    "sum(s2)"
   ]
  },
  {
   "cell_type": "code",
   "execution_count": 13,
   "id": "15111a46",
   "metadata": {},
   "outputs": [
    {
     "data": {
      "text/plain": [
       "1234"
      ]
     },
     "execution_count": 13,
     "metadata": {},
     "output_type": "execute_result"
    }
   ],
   "source": [
    "int(s2)"
   ]
  },
  {
   "cell_type": "code",
   "execution_count": 14,
   "id": "cd804847",
   "metadata": {},
   "outputs": [
    {
     "ename": "TypeError",
     "evalue": "'int' object is not iterable",
     "output_type": "error",
     "traceback": [
      "\u001b[1;31m---------------------------------------------------------------------------\u001b[0m",
      "\u001b[1;31mTypeError\u001b[0m                                 Traceback (most recent call last)",
      "Input \u001b[1;32mIn [14]\u001b[0m, in \u001b[0;36m<cell line: 1>\u001b[1;34m()\u001b[0m\n\u001b[1;32m----> 1\u001b[0m \u001b[38;5;28;43msum\u001b[39;49m\u001b[43m(\u001b[49m\u001b[38;5;28;43mint\u001b[39;49m\u001b[43m(\u001b[49m\u001b[43ms2\u001b[49m\u001b[43m)\u001b[49m\u001b[43m)\u001b[49m\n",
      "\u001b[1;31mTypeError\u001b[0m: 'int' object is not iterable"
     ]
    }
   ],
   "source": [
    "sum(int(s2))"
   ]
  },
  {
   "cell_type": "code",
   "execution_count": 15,
   "id": "3f65fbdf",
   "metadata": {},
   "outputs": [
    {
     "name": "stdout",
     "output_type": "stream",
     "text": [
      "10\n"
     ]
    }
   ],
   "source": [
    "s=0\n",
    "for x in s2:\n",
    "    s=s+int(x)\n",
    "print(s)\n",
    "    "
   ]
  },
  {
   "cell_type": "code",
   "execution_count": 16,
   "id": "48d15e76",
   "metadata": {},
   "outputs": [
    {
     "ename": "TypeError",
     "evalue": "unsupported operand type(s) for +: 'int' and 'str'",
     "output_type": "error",
     "traceback": [
      "\u001b[1;31m---------------------------------------------------------------------------\u001b[0m",
      "\u001b[1;31mTypeError\u001b[0m                                 Traceback (most recent call last)",
      "Input \u001b[1;32mIn [16]\u001b[0m, in \u001b[0;36m<cell line: 2>\u001b[1;34m()\u001b[0m\n\u001b[0;32m      1\u001b[0m \u001b[38;5;66;03m# alternative way\u001b[39;00m\n\u001b[1;32m----> 2\u001b[0m \u001b[38;5;28;43msum\u001b[39;49m\u001b[43m(\u001b[49m\u001b[38;5;28;43mlist\u001b[39;49m\u001b[43m(\u001b[49m\u001b[43ms2\u001b[49m\u001b[43m)\u001b[49m\u001b[43m)\u001b[49m\n",
      "\u001b[1;31mTypeError\u001b[0m: unsupported operand type(s) for +: 'int' and 'str'"
     ]
    }
   ],
   "source": [
    "# alternative way\n",
    "sum(list(s2))"
   ]
  },
  {
   "cell_type": "code",
   "execution_count": 17,
   "id": "e5b50c85",
   "metadata": {},
   "outputs": [
    {
     "data": {
      "text/plain": [
       "10"
      ]
     },
     "execution_count": 17,
     "metadata": {},
     "output_type": "execute_result"
    }
   ],
   "source": [
    "# through list comprehension\n",
    "sum([int(e) for e in s2])"
   ]
  },
  {
   "cell_type": "code",
   "execution_count": 18,
   "id": "482c1fa4",
   "metadata": {},
   "outputs": [
    {
     "name": "stdout",
     "output_type": "stream",
     "text": [
      "7\n"
     ]
    },
    {
     "ename": "TypeError",
     "evalue": "'str' object cannot be interpreted as an integer",
     "output_type": "error",
     "traceback": [
      "\u001b[1;31m---------------------------------------------------------------------------\u001b[0m",
      "\u001b[1;31mTypeError\u001b[0m                                 Traceback (most recent call last)",
      "Input \u001b[1;32mIn [18]\u001b[0m, in \u001b[0;36m<cell line: 3>\u001b[1;34m()\u001b[0m\n\u001b[0;32m      1\u001b[0m s3\u001b[38;5;241m=\u001b[39m\u001b[38;5;124m\"\u001b[39m\u001b[38;5;124m1a2b3c4\u001b[39m\u001b[38;5;124m\"\u001b[39m\n\u001b[0;32m      2\u001b[0m \u001b[38;5;28mprint\u001b[39m(\u001b[38;5;28mlen\u001b[39m(s3))\n\u001b[1;32m----> 3\u001b[0m \u001b[38;5;28msum\u001b[39m([\u001b[38;5;28mint\u001b[39m(e)\u001b[38;5;28;01mfor\u001b[39;00m e \u001b[38;5;129;01min\u001b[39;00m \u001b[38;5;28;43mrange\u001b[39;49m\u001b[43m(\u001b[49m\u001b[43ms3\u001b[49m\u001b[43m[\u001b[49m\u001b[38;5;241;43m0\u001b[39;49m\u001b[43m]\u001b[49m\u001b[43m,\u001b[49m\u001b[38;5;241;43m7\u001b[39;49m\u001b[43m,\u001b[49m\u001b[38;5;241;43m2\u001b[39;49m\u001b[43m)\u001b[49m])\n",
      "\u001b[1;31mTypeError\u001b[0m: 'str' object cannot be interpreted as an integer"
     ]
    }
   ],
   "source": [
    "s3=\"1a2b3c4\"\n",
    "print(len(s3))\n",
    "sum([int(e)for e in range(s3[0],7,2)])"
   ]
  },
  {
   "cell_type": "code",
   "execution_count": 19,
   "id": "cf1b0c1b",
   "metadata": {},
   "outputs": [
    {
     "data": {
      "text/plain": [
       "10"
      ]
     },
     "execution_count": 19,
     "metadata": {},
     "output_type": "execute_result"
    }
   ],
   "source": [
    "sum([int(e) for e in s3 if ord(e)>=49 and ord(e)<=57])"
   ]
  },
  {
   "cell_type": "code",
   "execution_count": 20,
   "id": "caa080ed",
   "metadata": {},
   "outputs": [
    {
     "data": {
      "text/plain": [
       "[' ',\n",
       " ' ',\n",
       " 'E',\n",
       " 'G',\n",
       " 'M',\n",
       " 'S',\n",
       " 'S',\n",
       " 'a',\n",
       " 'c',\n",
       " 'c',\n",
       " 'd',\n",
       " 'e',\n",
       " 'e',\n",
       " 'i',\n",
       " 'i',\n",
       " 'i',\n",
       " 'n',\n",
       " 'o',\n",
       " 'r',\n",
       " 'r',\n",
       " 's',\n",
       " 't',\n",
       " 'u',\n",
       " 'v',\n",
       " 'y']"
      ]
     },
     "execution_count": 20,
     "metadata": {},
     "output_type": "execute_result"
    }
   ],
   "source": [
    "sorted(S1)"
   ]
  },
  {
   "cell_type": "markdown",
   "id": "de18c31b",
   "metadata": {},
   "source": [
    "# 6.Concatenation and Repetition Operator"
   ]
  },
  {
   "cell_type": "code",
   "execution_count": 21,
   "id": "23f94c42",
   "metadata": {},
   "outputs": [
    {
     "name": "stdout",
     "output_type": "stream",
     "text": [
      "ABHISHEK CHAUBEY\n"
     ]
    }
   ],
   "source": [
    "S=\"ABHISHEK\"\n",
    "S2=\" CHAUBEY\"\n",
    "S3=S+S2\n",
    "print(S3)"
   ]
  },
  {
   "cell_type": "code",
   "execution_count": 22,
   "id": "9ce09a06",
   "metadata": {},
   "outputs": [
    {
     "name": "stdout",
     "output_type": "stream",
     "text": [
      "ABHISHEKABHISHEK\n"
     ]
    }
   ],
   "source": [
    "S=S*2\n",
    "print(S)"
   ]
  },
  {
   "cell_type": "code",
   "execution_count": 23,
   "id": "1c2b8515",
   "metadata": {},
   "outputs": [
    {
     "data": {
      "text/plain": [
       "'dededede'"
      ]
     },
     "execution_count": 23,
     "metadata": {},
     "output_type": "execute_result"
    }
   ],
   "source": [
    "J=\"de\"\n",
    "J*4"
   ]
  },
  {
   "cell_type": "markdown",
   "id": "e0ad86c1",
   "metadata": {},
   "source": [
    "# 7.Comparison Operator\n",
    "* S1>S2 gives true if S1 comes after S2 in dictionary order otherwise false"
   ]
  },
  {
   "cell_type": "code",
   "execution_count": 24,
   "id": "3dc871c5",
   "metadata": {},
   "outputs": [
    {
     "data": {
      "text/plain": [
       "True"
      ]
     },
     "execution_count": 24,
     "metadata": {},
     "output_type": "execute_result"
    }
   ],
   "source": [
    "string1=\"abh\"\n",
    "string=\"bbh\"\n",
    "string>string1"
   ]
  },
  {
   "cell_type": "markdown",
   "id": "9729ec24",
   "metadata": {},
   "source": [
    "# 8. Str object methods"
   ]
  },
  {
   "cell_type": "markdown",
   "id": "96c3d87a",
   "metadata": {},
   "source": [
    "* index()\n",
    "* count()\n",
    "* startswith()\n",
    "* endswith()\n",
    "* split()\n",
    "* join()\n",
    "* format()\n",
    "* isdigit()\n",
    "* islower()\n",
    "* isupper()\n",
    "* lower()\n",
    "* upper()\n",
    "* replace()"
   ]
  },
  {
   "cell_type": "code",
   "execution_count": 25,
   "id": "20662623",
   "metadata": {},
   "outputs": [
    {
     "data": {
      "text/plain": [
       "'MySirG'"
      ]
     },
     "execution_count": 25,
     "metadata": {},
     "output_type": "execute_result"
    }
   ],
   "source": [
    "s1"
   ]
  },
  {
   "cell_type": "code",
   "execution_count": 26,
   "id": "ce4c7fd2",
   "metadata": {},
   "outputs": [
    {
     "data": {
      "text/plain": [
       "5"
      ]
     },
     "execution_count": 26,
     "metadata": {},
     "output_type": "execute_result"
    }
   ],
   "source": [
    "s1.index(\"G\")"
   ]
  },
  {
   "cell_type": "code",
   "execution_count": 27,
   "id": "9ab88810",
   "metadata": {},
   "outputs": [
    {
     "name": "stdout",
     "output_type": "stream",
     "text": [
      "7\n"
     ]
    },
    {
     "data": {
      "text/plain": [
       "6"
      ]
     },
     "execution_count": 27,
     "metadata": {},
     "output_type": "execute_result"
    }
   ],
   "source": [
    "print(s1.count(\"\"))\n",
    "len(s1)"
   ]
  },
  {
   "cell_type": "code",
   "execution_count": 28,
   "id": "c9f1ae35",
   "metadata": {},
   "outputs": [
    {
     "name": "stdout",
     "output_type": "stream",
     "text": [
      "ABHISHEKABHISHEK\n"
     ]
    },
    {
     "data": {
      "text/plain": [
       "2"
      ]
     },
     "execution_count": 28,
     "metadata": {},
     "output_type": "execute_result"
    }
   ],
   "source": [
    "print(S)\n",
    "S.count(\"AB\")"
   ]
  },
  {
   "cell_type": "code",
   "execution_count": 29,
   "id": "6fab7a6d",
   "metadata": {},
   "outputs": [
    {
     "data": {
      "text/plain": [
       "True"
      ]
     },
     "execution_count": 29,
     "metadata": {},
     "output_type": "execute_result"
    }
   ],
   "source": [
    "s1.startswith(\"My\")"
   ]
  },
  {
   "cell_type": "code",
   "execution_count": 30,
   "id": "ac3c01f7",
   "metadata": {},
   "outputs": [
    {
     "data": {
      "text/plain": [
       "True"
      ]
     },
     "execution_count": 30,
     "metadata": {},
     "output_type": "execute_result"
    }
   ],
   "source": [
    "S.endswith(\"SHEK\")"
   ]
  },
  {
   "cell_type": "code",
   "execution_count": 31,
   "id": "db95b6cc",
   "metadata": {},
   "outputs": [
    {
     "data": {
      "text/plain": [
       "'1a2b3c4'"
      ]
     },
     "execution_count": 31,
     "metadata": {},
     "output_type": "execute_result"
    }
   ],
   "source": [
    "s3"
   ]
  },
  {
   "cell_type": "code",
   "execution_count": 32,
   "id": "7166ab5f",
   "metadata": {},
   "outputs": [
    {
     "data": {
      "text/plain": [
       "False"
      ]
     },
     "execution_count": 32,
     "metadata": {},
     "output_type": "execute_result"
    }
   ],
   "source": [
    "s3.isdigit()"
   ]
  },
  {
   "cell_type": "code",
   "execution_count": 33,
   "id": "7a1108f7",
   "metadata": {},
   "outputs": [],
   "source": [
    "S0=\"1234\""
   ]
  },
  {
   "cell_type": "code",
   "execution_count": 34,
   "id": "ff4228ff",
   "metadata": {},
   "outputs": [
    {
     "data": {
      "text/plain": [
       "True"
      ]
     },
     "execution_count": 34,
     "metadata": {},
     "output_type": "execute_result"
    }
   ],
   "source": [
    "S0.isdigit()"
   ]
  },
  {
   "cell_type": "code",
   "execution_count": 35,
   "id": "d9cc12b2",
   "metadata": {},
   "outputs": [
    {
     "data": {
      "text/plain": [
       "True"
      ]
     },
     "execution_count": 35,
     "metadata": {},
     "output_type": "execute_result"
    }
   ],
   "source": [
    "s3.isalnum()"
   ]
  },
  {
   "cell_type": "code",
   "execution_count": 36,
   "id": "06bb3109",
   "metadata": {},
   "outputs": [
    {
     "data": {
      "text/plain": [
       "True"
      ]
     },
     "execution_count": 36,
     "metadata": {},
     "output_type": "execute_result"
    }
   ],
   "source": [
    "S0.isalnum()"
   ]
  },
  {
   "cell_type": "code",
   "execution_count": 37,
   "id": "b24a933a",
   "metadata": {},
   "outputs": [
    {
     "data": {
      "text/plain": [
       "False"
      ]
     },
     "execution_count": 37,
     "metadata": {},
     "output_type": "execute_result"
    }
   ],
   "source": [
    "S0.isalpha()"
   ]
  },
  {
   "cell_type": "code",
   "execution_count": 38,
   "id": "d1caac4c",
   "metadata": {},
   "outputs": [
    {
     "data": {
      "text/plain": [
       "False"
      ]
     },
     "execution_count": 38,
     "metadata": {},
     "output_type": "execute_result"
    }
   ],
   "source": [
    "S0.islower()"
   ]
  },
  {
   "cell_type": "code",
   "execution_count": 39,
   "id": "4c1aa51b",
   "metadata": {},
   "outputs": [
    {
     "data": {
      "text/plain": [
       "False"
      ]
     },
     "execution_count": 39,
     "metadata": {},
     "output_type": "execute_result"
    }
   ],
   "source": [
    "S0.isupper()"
   ]
  },
  {
   "cell_type": "markdown",
   "id": "c368f86c",
   "metadata": {},
   "source": [
    "# 9.Format\n",
    "Format function is usually used with print function\n",
    "* string.format(var1,var2.....)"
   ]
  },
  {
   "cell_type": "code",
   "execution_count": 40,
   "id": "b3a205f4",
   "metadata": {},
   "outputs": [
    {
     "name": "stdout",
     "output_type": "stream",
     "text": [
      "Abhishek\n"
     ]
    }
   ],
   "source": [
    "#There is two way of format string. this one is different one.\n",
    "\n",
    "\n",
    "first=\"Abhishek\"\n",
    "last=\"Chaubey\"\n",
    "name=f'{first}'\n",
    "print(name)"
   ]
  },
  {
   "cell_type": "code",
   "execution_count": null,
   "id": "fa9b63f6",
   "metadata": {},
   "outputs": [],
   "source": [
    "Name=\"ABHISHEK\"\n",
    "gender=\"Male\"\n",
    "print(\"Hi, my name is {} and I am a {}\".format(gender,name))"
   ]
  },
  {
   "cell_type": "code",
   "execution_count": null,
   "id": "ac70b80e",
   "metadata": {},
   "outputs": [],
   "source": [
    "Name=\"ABHISHEK\"\n",
    "gender=\"Male\"\n",
    "S00=\"Hi, my name is {1} and I am a {0}\".format(gender,name)\n",
    "print(S00)"
   ]
  },
  {
   "cell_type": "code",
   "execution_count": null,
   "id": "cb209e2c",
   "metadata": {},
   "outputs": [],
   "source": [
    "s5=\"{},welcome\"\n",
    "s5.format(\"saurabh\")"
   ]
  },
  {
   "cell_type": "code",
   "execution_count": null,
   "id": "8d0e9c57",
   "metadata": {},
   "outputs": [],
   "source": [
    "a=5\n",
    "b=4.5\n",
    "s0=\"value of a is {} and b is {}\"\n",
    "s0.format(a,b)\n"
   ]
  },
  {
   "cell_type": "code",
   "execution_count": null,
   "id": "5d68b152",
   "metadata": {},
   "outputs": [],
   "source": [
    "print(s0)"
   ]
  },
  {
   "cell_type": "code",
   "execution_count": null,
   "id": "63043b6c",
   "metadata": {},
   "outputs": [],
   "source": [
    "\"my name is {} {}\".format(first,last)"
   ]
  },
  {
   "cell_type": "code",
   "execution_count": null,
   "id": "79f84b99",
   "metadata": {},
   "outputs": [],
   "source": [
    "a=\"deewali\"\n",
    "b=\"holi\"\n",
    "K=\"this {} and {} we will enjoy a lot\"\n",
    "K.format(b,a)"
   ]
  },
  {
   "cell_type": "code",
   "execution_count": null,
   "id": "8978d227",
   "metadata": {},
   "outputs": [],
   "source": [
    "c=9\n",
    "d=12.2\n",
    "e=f'{c} and {c+d} are the values'\n",
    "print(e)"
   ]
  },
  {
   "cell_type": "code",
   "execution_count": null,
   "id": "443430c6",
   "metadata": {},
   "outputs": [],
   "source": [
    "f=\"{} and {} are the values here\" .format(d,c)"
   ]
  },
  {
   "cell_type": "code",
   "execution_count": null,
   "id": "5c33de88",
   "metadata": {},
   "outputs": [],
   "source": [
    "print(f)"
   ]
  },
  {
   "cell_type": "markdown",
   "id": "bd35b49a",
   "metadata": {},
   "source": [
    "# 10.Split and Join"
   ]
  },
  {
   "cell_type": "markdown",
   "id": "b15f7a97",
   "metadata": {},
   "source": [
    "### 10.1 Split\n",
    "Split function convert string into list of string on the basis of what you have passed in it, the base string. \n",
    " \n"
   ]
  },
  {
   "cell_type": "code",
   "execution_count": 41,
   "id": "d521501b",
   "metadata": {},
   "outputs": [
    {
     "data": {
      "text/plain": [
       "['MySirG', 'Education', 'Services']"
      ]
     },
     "execution_count": 41,
     "metadata": {},
     "output_type": "execute_result"
    }
   ],
   "source": [
    "# it will give result in list\n",
    "S1=\"MySirG Education Services\"\n",
    "S1.split(\" \")# It will split on the basis of what you have passed in the function present in the string\n"
   ]
  },
  {
   "cell_type": "code",
   "execution_count": 42,
   "id": "f8110148",
   "metadata": {},
   "outputs": [
    {
     "data": {
      "text/plain": [
       "['MySirG Educ', 'ion Services']"
      ]
     },
     "execution_count": 42,
     "metadata": {},
     "output_type": "execute_result"
    }
   ],
   "source": [
    "S1.split(\"at\")"
   ]
  },
  {
   "cell_type": "code",
   "execution_count": null,
   "id": "26e0dac2",
   "metadata": {},
   "outputs": [],
   "source": [
    "S1.split(\"z\") # since z is not here in the string, it will give the ditto same string"
   ]
  },
  {
   "cell_type": "code",
   "execution_count": null,
   "id": "c04346e1",
   "metadata": {},
   "outputs": [],
   "source": [
    "s=input()"
   ]
  },
  {
   "cell_type": "code",
   "execution_count": null,
   "id": "f015bb77",
   "metadata": {},
   "outputs": [],
   "source": [
    "l1=s.split(',')\n",
    "print(l1)"
   ]
  },
  {
   "cell_type": "code",
   "execution_count": null,
   "id": "7d15f76e",
   "metadata": {},
   "outputs": [],
   "source": [
    "l2=[int(e) for e in l1]\n",
    "print(l2)"
   ]
  },
  {
   "cell_type": "code",
   "execution_count": 43,
   "id": "94235047",
   "metadata": {},
   "outputs": [
    {
     "name": "stdout",
     "output_type": "stream",
     "text": [
      "23,534,23\n",
      "[23, 534, 23]\n"
     ]
    }
   ],
   "source": [
    "l0=[int(x) for x in input().split(\",\")]\n",
    "print(l0)"
   ]
  },
  {
   "cell_type": "markdown",
   "id": "35917b4a",
   "metadata": {},
   "source": [
    "### 10.2 Join\n",
    "syntax=base string.join(list of string)"
   ]
  },
  {
   "cell_type": "code",
   "execution_count": 44,
   "id": "718dfa33",
   "metadata": {},
   "outputs": [
    {
     "data": {
      "text/plain": [
       "['abhi', 'hydra', 'Jr']"
      ]
     },
     "execution_count": 44,
     "metadata": {},
     "output_type": "execute_result"
    }
   ],
   "source": [
    "r=[\"abhi\",\"hydra\",\"Jr\"]\n",
    "r"
   ]
  },
  {
   "cell_type": "code",
   "execution_count": 45,
   "id": "4d1428b7",
   "metadata": {},
   "outputs": [
    {
     "name": "stdout",
     "output_type": "stream",
     "text": [
      "abhi hydra Jr\n"
     ]
    },
    {
     "data": {
      "text/plain": [
       "str"
      ]
     },
     "execution_count": 45,
     "metadata": {},
     "output_type": "execute_result"
    }
   ],
   "source": [
    "S01=\" \".join(r)\n",
    "print(S01)\n",
    "type(S01)"
   ]
  },
  {
   "cell_type": "code",
   "execution_count": null,
   "id": "0b5dedb6",
   "metadata": {},
   "outputs": [],
   "source": [
    "l0"
   ]
  },
  {
   "cell_type": "markdown",
   "id": "6520bb73",
   "metadata": {},
   "source": [
    "# 11. Slicing Operator\n",
    "* syntax=strobject[beg:end:step]\n",
    "* if you dont give end value, it will be considered as last value inclusive\n",
    "* Slicing Operator also works for list"
   ]
  },
  {
   "cell_type": "code",
   "execution_count": null,
   "id": "cf80a570",
   "metadata": {},
   "outputs": [],
   "source": [
    "S01"
   ]
  },
  {
   "cell_type": "code",
   "execution_count": null,
   "id": "87e2e3f5",
   "metadata": {},
   "outputs": [],
   "source": [
    "S01[1:5:2]"
   ]
  },
  {
   "cell_type": "code",
   "execution_count": null,
   "id": "e6c517e8",
   "metadata": {},
   "outputs": [],
   "source": [
    "S01[::2]"
   ]
  },
  {
   "cell_type": "code",
   "execution_count": null,
   "id": "991da04d",
   "metadata": {},
   "outputs": [],
   "source": [
    "S_=\"ABHISHEK CHAUBEY\"\n",
    "S_[:6:]"
   ]
  },
  {
   "cell_type": "code",
   "execution_count": null,
   "id": "145eb0ba",
   "metadata": {},
   "outputs": [],
   "source": [
    "S_[::3]"
   ]
  },
  {
   "cell_type": "code",
   "execution_count": null,
   "id": "92d37712",
   "metadata": {},
   "outputs": [],
   "source": [
    "S_[:3:-2]"
   ]
  },
  {
   "cell_type": "code",
   "execution_count": null,
   "id": "b4bdb9ec",
   "metadata": {},
   "outputs": [],
   "source": [
    "Y=S_[::-1]\n",
    "print(Y)"
   ]
  },
  {
   "cell_type": "code",
   "execution_count": null,
   "id": "579e20a5",
   "metadata": {},
   "outputs": [],
   "source": [
    "s345=\"yre5e54\"\n",
    "p=len(s345)"
   ]
  },
  {
   "cell_type": "markdown",
   "id": "782066de",
   "metadata": {},
   "source": [
    "# Replacing"
   ]
  },
  {
   "cell_type": "code",
   "execution_count": null,
   "id": "6efbf255",
   "metadata": {},
   "outputs": [],
   "source": [
    "\"Abhishek\".replace(\"Abhishek\",\"Golu\")"
   ]
  },
  {
   "cell_type": "code",
   "execution_count": null,
   "id": "045a6aca",
   "metadata": {},
   "outputs": [],
   "source": [
    "G=S_.replace(\"ABHISHEK\",\"Abhishek\")"
   ]
  },
  {
   "cell_type": "code",
   "execution_count": null,
   "id": "1b3207af",
   "metadata": {},
   "outputs": [],
   "source": [
    "S_"
   ]
  },
  {
   "cell_type": "code",
   "execution_count": null,
   "id": "81cc6180",
   "metadata": {},
   "outputs": [],
   "source": [
    "G"
   ]
  },
  {
   "cell_type": "code",
   "execution_count": null,
   "id": "85c0b47d",
   "metadata": {},
   "outputs": [],
   "source": []
  }
 ],
 "metadata": {
  "kernelspec": {
   "display_name": "Python 3",
   "language": "python",
   "name": "python3"
  },
  "language_info": {
   "codemirror_mode": {
    "name": "ipython",
    "version": 3
   },
   "file_extension": ".py",
   "mimetype": "text/x-python",
   "name": "python",
   "nbconvert_exporter": "python",
   "pygments_lexer": "ipython3",
   "version": "3.8.8"
  }
 },
 "nbformat": 4,
 "nbformat_minor": 5
}
