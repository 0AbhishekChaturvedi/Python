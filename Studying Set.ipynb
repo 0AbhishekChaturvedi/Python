{
 "cells": [
  {
   "cell_type": "markdown",
   "id": "9c68bde2",
   "metadata": {},
   "source": [
    "# Set\n",
    "### Agenda today\n",
    "1. Set introduction\n",
    "2. Creating set object\n",
    "3. Accessing set elements\n",
    "4. built-in methods\n",
    "5. concatenation and repetition operator\n",
    "6. comparison operators\n",
    "7. set object methods\n",
    "8. set comprehension\n",
    "9. user input"
   ]
  },
  {
   "cell_type": "markdown",
   "id": "89411525",
   "metadata": {},
   "source": [
    "# 1.Set\n",
    "* set is quite different than other iterables\n",
    "* set is class\n",
    "* set is mutable\n",
    "* set is not hashable\n",
    "* set is iterable\n",
    "* set is not a sequence because orders of values/elements in it are not preserved\n",
    "* set cannot have duplicate values\n",
    "* since set is not a sequence,indexing is not applicable to set object\n",
    "* since indexing is not applicable, you cant do slicing as well\n",
    "* set doesn't guarantee to store values in the order of insertion"
   ]
  },
  {
   "cell_type": "markdown",
   "id": "75fd7b22",
   "metadata": {},
   "source": [
    "# 2. How to create set object"
   ]
  },
  {
   "cell_type": "code",
   "execution_count": 10,
   "id": "556580cb",
   "metadata": {},
   "outputs": [
    {
     "name": "stdout",
     "output_type": "stream",
     "text": [
      "{1, 5, 6}\n"
     ]
    },
    {
     "data": {
      "text/plain": [
       "set"
      ]
     },
     "execution_count": 10,
     "metadata": {},
     "output_type": "execute_result"
    }
   ],
   "source": [
    "S1={1,5,6} # we use curly bracket to create set objects\n",
    "print(S1)\n",
    "type(S1)"
   ]
  },
  {
   "cell_type": "code",
   "execution_count": 11,
   "id": "4501c810",
   "metadata": {},
   "outputs": [
    {
     "name": "stdout",
     "output_type": "stream",
     "text": [
      "{8, 10, 2}\n"
     ]
    },
    {
     "data": {
      "text/plain": [
       "set"
      ]
     },
     "execution_count": 11,
     "metadata": {},
     "output_type": "execute_result"
    }
   ],
   "source": [
    "S2={10,2,8,10,10,8}\n",
    "print(S2)\n",
    "type(S2)"
   ]
  },
  {
   "cell_type": "code",
   "execution_count": 12,
   "id": "76256eaf",
   "metadata": {},
   "outputs": [
    {
     "name": "stdout",
     "output_type": "stream",
     "text": [
      "{1, 5, 6}\n"
     ]
    }
   ],
   "source": [
    "print(S1)"
   ]
  },
  {
   "cell_type": "code",
   "execution_count": 13,
   "id": "0324b411",
   "metadata": {},
   "outputs": [
    {
     "name": "stdout",
     "output_type": "stream",
     "text": [
      "{8, 10, 2}\n"
     ]
    }
   ],
   "source": [
    "print(S2)"
   ]
  },
  {
   "cell_type": "code",
   "execution_count": 14,
   "id": "9c189285",
   "metadata": {},
   "outputs": [],
   "source": [
    "S3={} #this is not set.. this is dict because curly braces\n",
    "# is uded for dict as well"
   ]
  },
  {
   "cell_type": "code",
   "execution_count": 15,
   "id": "49c627a8",
   "metadata": {},
   "outputs": [
    {
     "data": {
      "text/plain": [
       "dict"
      ]
     },
     "execution_count": 15,
     "metadata": {},
     "output_type": "execute_result"
    }
   ],
   "source": [
    "type(S3)"
   ]
  },
  {
   "cell_type": "code",
   "execution_count": 16,
   "id": "3b57b3ea",
   "metadata": {},
   "outputs": [],
   "source": [
    "# then how to create empty set ?\n",
    "S4=set() # this is way to create empty set through set function"
   ]
  },
  {
   "cell_type": "code",
   "execution_count": 17,
   "id": "33f72df2",
   "metadata": {},
   "outputs": [
    {
     "data": {
      "text/plain": [
       "set"
      ]
     },
     "execution_count": 17,
     "metadata": {},
     "output_type": "execute_result"
    }
   ],
   "source": [
    "type(S4)"
   ]
  },
  {
   "cell_type": "code",
   "execution_count": 18,
   "id": "ddbbf5a1",
   "metadata": {
    "scrolled": true
   },
   "outputs": [
    {
     "ename": "TypeError",
     "evalue": "set expected at most 1 argument, got 3",
     "output_type": "error",
     "traceback": [
      "\u001b[1;31m---------------------------------------------------------------------------\u001b[0m",
      "\u001b[1;31mTypeError\u001b[0m                                 Traceback (most recent call last)",
      "Input \u001b[1;32mIn [18]\u001b[0m, in \u001b[0;36m<cell line: 1>\u001b[1;34m()\u001b[0m\n\u001b[1;32m----> 1\u001b[0m S5\u001b[38;5;241m=\u001b[39m\u001b[38;5;28;43mset\u001b[39;49m\u001b[43m(\u001b[49m\u001b[38;5;241;43m10\u001b[39;49m\u001b[43m,\u001b[49m\u001b[38;5;241;43m20\u001b[39;49m\u001b[43m,\u001b[49m\u001b[38;5;241;43m30\u001b[39;49m\u001b[43m)\u001b[49m \u001b[38;5;66;03m# we can pass at most one function \u001b[39;00m\n\u001b[0;32m      2\u001b[0m \u001b[38;5;28mprint\u001b[39m(S5)\n",
      "\u001b[1;31mTypeError\u001b[0m: set expected at most 1 argument, got 3"
     ]
    }
   ],
   "source": [
    "S5=set(10,20,30) # we can pass at most one function \n",
    "print(S5)"
   ]
  },
  {
   "cell_type": "code",
   "execution_count": 19,
   "id": "7674b930",
   "metadata": {},
   "outputs": [
    {
     "ename": "TypeError",
     "evalue": "'int' object is not iterable",
     "output_type": "error",
     "traceback": [
      "\u001b[1;31m---------------------------------------------------------------------------\u001b[0m",
      "\u001b[1;31mTypeError\u001b[0m                                 Traceback (most recent call last)",
      "Input \u001b[1;32mIn [19]\u001b[0m, in \u001b[0;36m<cell line: 1>\u001b[1;34m()\u001b[0m\n\u001b[1;32m----> 1\u001b[0m S01\u001b[38;5;241m=\u001b[39m\u001b[38;5;28;43mset\u001b[39;49m\u001b[43m(\u001b[49m\u001b[38;5;241;43m10\u001b[39;49m\u001b[43m)\u001b[49m \u001b[38;5;66;03m# if you are passing the single element in set fuction,\u001b[39;00m\n\u001b[0;32m      2\u001b[0m \u001b[38;5;66;03m# it must be iterable\u001b[39;00m\n\u001b[0;32m      3\u001b[0m \u001b[38;5;28mprint\u001b[39m(S01)\n",
      "\u001b[1;31mTypeError\u001b[0m: 'int' object is not iterable"
     ]
    }
   ],
   "source": [
    "S01=set(10) # if you are passing the single element in set fuction,\n",
    "# it must be iterable\n",
    "print(S01)\n",
    "type(S01)"
   ]
  },
  {
   "cell_type": "code",
   "execution_count": 20,
   "id": "865bd940",
   "metadata": {},
   "outputs": [
    {
     "name": "stdout",
     "output_type": "stream",
     "text": [
      "{'A', 'i', 'h', 'b'}\n"
     ]
    }
   ],
   "source": [
    "S02=set(\"Abhi\")\n",
    "print(S02)"
   ]
  },
  {
   "cell_type": "code",
   "execution_count": 21,
   "id": "85e5e496",
   "metadata": {},
   "outputs": [
    {
     "name": "stdout",
     "output_type": "stream",
     "text": [
      "{3, 4, 6}\n",
      "<class 'set'>\n"
     ]
    }
   ],
   "source": [
    "S03=set([3,6,4])\n",
    "print(S03)\n",
    "print(type(S03))"
   ]
  },
  {
   "cell_type": "code",
   "execution_count": 22,
   "id": "de1cdc33",
   "metadata": {
    "scrolled": true
   },
   "outputs": [
    {
     "name": "stdout",
     "output_type": "stream",
     "text": [
      "{3, 6, 7}\n",
      "<class 'set'>\n"
     ]
    }
   ],
   "source": [
    "S04=set((3,6,7))\n",
    "print(S04)\n",
    "print(type(S04))"
   ]
  },
  {
   "cell_type": "code",
   "execution_count": 23,
   "id": "ac9afbf1",
   "metadata": {},
   "outputs": [
    {
     "name": "stdout",
     "output_type": "stream",
     "text": [
      "{10, 20, 30}\n",
      "<class 'set'>\n"
     ]
    }
   ],
   "source": [
    "# so you can pass a set object in set function if you want to store\n",
    "# mutliple objects..because this way you are passing single argunment\n",
    "S5=set({10,20,30})\n",
    "print(S5)\n",
    "print(type(S5))"
   ]
  },
  {
   "cell_type": "code",
   "execution_count": 24,
   "id": "69a30e15",
   "metadata": {
    "scrolled": true
   },
   "outputs": [
    {
     "ename": "SyntaxError",
     "evalue": "invalid syntax (<ipython-input-24-614ba5c6c7df>, line 1)",
     "output_type": "error",
     "traceback": [
      "\u001b[1;36m  Input \u001b[1;32mIn [24]\u001b[1;36m\u001b[0m\n\u001b[1;33m    S0={,} # this is not correct way.. this will give error\u001b[0m\n\u001b[1;37m        ^\u001b[0m\n\u001b[1;31mSyntaxError\u001b[0m\u001b[1;31m:\u001b[0m invalid syntax\n"
     ]
    }
   ],
   "source": [
    "S0={,} # this is not correct way.. this will give error"
   ]
  },
  {
   "cell_type": "code",
   "execution_count": 25,
   "id": "e08fc3d6",
   "metadata": {},
   "outputs": [
    {
     "name": "stdout",
     "output_type": "stream",
     "text": [
      "{2, 4, 6, 10, 12, 20}\n",
      "[2, 4, 6, 10, 12, 20]\n"
     ]
    }
   ],
   "source": [
    "l1=[10,20,10,12,10,2,12,4,6]\n",
    "s=set(l1)\n",
    "print(s)\n",
    "l2=list(set(l1))\n",
    "print(l2)"
   ]
  },
  {
   "cell_type": "markdown",
   "id": "fef53b9d",
   "metadata": {},
   "source": [
    "# 3.Accesing set elements\n",
    "Since there is not indexing, we can use for loop"
   ]
  },
  {
   "cell_type": "code",
   "execution_count": 26,
   "id": "ee661454",
   "metadata": {},
   "outputs": [
    {
     "name": "stdout",
     "output_type": "stream",
     "text": [
      "2\n",
      "4\n",
      "6\n",
      "10\n",
      "12\n",
      "20\n"
     ]
    }
   ],
   "source": [
    "for e in s:\n",
    "    print(e)"
   ]
  },
  {
   "cell_type": "markdown",
   "id": "055dbcb6",
   "metadata": {},
   "source": [
    "# 4. built-in methods\n",
    "* len()\n",
    "* min()\n",
    "* max()\n",
    "* sum()\n",
    "* sorted()"
   ]
  },
  {
   "cell_type": "code",
   "execution_count": 27,
   "id": "ab72a168",
   "metadata": {},
   "outputs": [
    {
     "data": {
      "text/plain": [
       "set"
      ]
     },
     "execution_count": 27,
     "metadata": {},
     "output_type": "execute_result"
    }
   ],
   "source": [
    "type(s)"
   ]
  },
  {
   "cell_type": "code",
   "execution_count": 28,
   "id": "50540b81",
   "metadata": {},
   "outputs": [
    {
     "name": "stdout",
     "output_type": "stream",
     "text": [
      "6\n"
     ]
    }
   ],
   "source": [
    "print(len(s))"
   ]
  },
  {
   "cell_type": "code",
   "execution_count": 29,
   "id": "e41e488b",
   "metadata": {},
   "outputs": [
    {
     "data": {
      "text/plain": [
       "2"
      ]
     },
     "execution_count": 29,
     "metadata": {},
     "output_type": "execute_result"
    }
   ],
   "source": [
    "min(s)"
   ]
  },
  {
   "cell_type": "code",
   "execution_count": 30,
   "id": "99f22f6b",
   "metadata": {},
   "outputs": [
    {
     "data": {
      "text/plain": [
       "['A', 'b', 'h', 'i']"
      ]
     },
     "execution_count": 30,
     "metadata": {},
     "output_type": "execute_result"
    }
   ],
   "source": [
    "sorted(S02) # sorted function always return sorted value"
   ]
  },
  {
   "cell_type": "markdown",
   "id": "2bd3b482",
   "metadata": {},
   "source": [
    "# 5.Concatenation and Repetition Operator\n",
    " both are not supported for set"
   ]
  },
  {
   "cell_type": "code",
   "execution_count": 31,
   "id": "bf2725ba",
   "metadata": {},
   "outputs": [
    {
     "ename": "TypeError",
     "evalue": "unsupported operand type(s) for +: 'set' and 'set'",
     "output_type": "error",
     "traceback": [
      "\u001b[1;31m---------------------------------------------------------------------------\u001b[0m",
      "\u001b[1;31mTypeError\u001b[0m                                 Traceback (most recent call last)",
      "Input \u001b[1;32mIn [31]\u001b[0m, in \u001b[0;36m<cell line: 2>\u001b[1;34m()\u001b[0m\n\u001b[0;32m      1\u001b[0m \u001b[38;5;66;03m#set+set not supported.. will give error\u001b[39;00m\n\u001b[1;32m----> 2\u001b[0m \u001b[43ms\u001b[49m\u001b[38;5;241;43m+\u001b[39;49m\u001b[43mS02\u001b[49m\n",
      "\u001b[1;31mTypeError\u001b[0m: unsupported operand type(s) for +: 'set' and 'set'"
     ]
    }
   ],
   "source": [
    "#set+set not supported.. will give error\n",
    "s+S02"
   ]
  },
  {
   "cell_type": "code",
   "execution_count": 32,
   "id": "3a5f1f48",
   "metadata": {},
   "outputs": [
    {
     "ename": "TypeError",
     "evalue": "unsupported operand type(s) for *: 'set' and 'set'",
     "output_type": "error",
     "traceback": [
      "\u001b[1;31m---------------------------------------------------------------------------\u001b[0m",
      "\u001b[1;31mTypeError\u001b[0m                                 Traceback (most recent call last)",
      "Input \u001b[1;32mIn [32]\u001b[0m, in \u001b[0;36m<cell line: 1>\u001b[1;34m()\u001b[0m\n\u001b[1;32m----> 1\u001b[0m \u001b[43ms\u001b[49m\u001b[38;5;241;43m*\u001b[39;49m\u001b[43mS02\u001b[49m\n",
      "\u001b[1;31mTypeError\u001b[0m: unsupported operand type(s) for *: 'set' and 'set'"
     ]
    }
   ],
   "source": [
    "s*S02"
   ]
  },
  {
   "cell_type": "markdown",
   "id": "270707ba",
   "metadata": {},
   "source": [
    "# 6.Comparison Operators\n",
    "<,>,<=,>=,==,!=\n",
    "\n",
    "* Two set objects are equal if their elements are same, doesn't matter the order of elements\n",
    "* You cant relly only on equal to(==), and not equal to(!=) operator over set.. you can't rely on others operators although they are not going to give you ny errors "
   ]
  },
  {
   "cell_type": "code",
   "execution_count": 33,
   "id": "29c94a84",
   "metadata": {},
   "outputs": [
    {
     "name": "stdout",
     "output_type": "stream",
     "text": [
      "{2, 4, 6, 10, 12, 20}\n",
      "{1, 5, 6}\n",
      "{8, 10, 2}\n",
      "{10, 20, 30}\n",
      "{'A', 'i', 'h', 'b'}\n",
      "{3, 4, 6}\n",
      "{3, 6, 7}\n"
     ]
    }
   ],
   "source": [
    "print(s)\n",
    "print(S1)\n",
    "print(S2)\n",
    "print(S5)\n",
    "print(S02)\n",
    "print(S03)\n",
    "print(S04)"
   ]
  },
  {
   "cell_type": "code",
   "execution_count": 34,
   "id": "826e4f83",
   "metadata": {},
   "outputs": [
    {
     "data": {
      "text/plain": [
       "{1, 5, 6}"
      ]
     },
     "execution_count": 34,
     "metadata": {},
     "output_type": "execute_result"
    }
   ],
   "source": [
    "S1"
   ]
  },
  {
   "cell_type": "code",
   "execution_count": 35,
   "id": "469a2392",
   "metadata": {},
   "outputs": [
    {
     "data": {
      "text/plain": [
       "{1, 5, 6}"
      ]
     },
     "execution_count": 35,
     "metadata": {},
     "output_type": "execute_result"
    }
   ],
   "source": [
    "S3={5,1,6}\n",
    "S3"
   ]
  },
  {
   "cell_type": "code",
   "execution_count": 36,
   "id": "11c37cd8",
   "metadata": {},
   "outputs": [
    {
     "data": {
      "text/plain": [
       "{1, 5, 6}"
      ]
     },
     "execution_count": 36,
     "metadata": {},
     "output_type": "execute_result"
    }
   ],
   "source": [
    "s1={1,1,6,6,5,1,5}\n",
    "s1"
   ]
  },
  {
   "cell_type": "code",
   "execution_count": 37,
   "id": "0bb7b66b",
   "metadata": {},
   "outputs": [
    {
     "data": {
      "text/plain": [
       "True"
      ]
     },
     "execution_count": 37,
     "metadata": {},
     "output_type": "execute_result"
    }
   ],
   "source": [
    "s1==S3 #this will give true because elements are same as orders dont matter"
   ]
  },
  {
   "cell_type": "code",
   "execution_count": 38,
   "id": "d35e28ec",
   "metadata": {},
   "outputs": [],
   "source": [
    "s2={0,-1,2,3}"
   ]
  },
  {
   "cell_type": "code",
   "execution_count": 39,
   "id": "5ca29d37",
   "metadata": {},
   "outputs": [
    {
     "data": {
      "text/plain": [
       "False"
      ]
     },
     "execution_count": 39,
     "metadata": {},
     "output_type": "execute_result"
    }
   ],
   "source": [
    "s1>s2 # Here comparison(<,>) happens "
   ]
  },
  {
   "cell_type": "code",
   "execution_count": 40,
   "id": "4dd8eb3d",
   "metadata": {},
   "outputs": [
    {
     "data": {
      "text/plain": [
       "False"
      ]
     },
     "execution_count": 40,
     "metadata": {},
     "output_type": "execute_result"
    }
   ],
   "source": [
    "s1>S02"
   ]
  },
  {
   "cell_type": "code",
   "execution_count": 41,
   "id": "ddbd67cd",
   "metadata": {},
   "outputs": [
    {
     "data": {
      "text/plain": [
       "False"
      ]
     },
     "execution_count": 41,
     "metadata": {},
     "output_type": "execute_result"
    }
   ],
   "source": [
    "s1==S02"
   ]
  },
  {
   "cell_type": "markdown",
   "id": "a82cf962",
   "metadata": {},
   "source": [
    "# 7.Set Object Methods\n",
    "* add()\n",
    "* update()\n",
    "* discard()\n",
    "* remove()\n",
    "* intersection()\n",
    "* union()\n",
    "* clear()\n",
    "* issubset()\n",
    "* issuperset()\n",
    "* pop()\n"
   ]
  },
  {
   "cell_type": "code",
   "execution_count": 42,
   "id": "87169d98",
   "metadata": {},
   "outputs": [
    {
     "name": "stdout",
     "output_type": "stream",
     "text": [
      "{2, 4, 6, 10, 12, 20}\n",
      "{1, 5, 6}\n"
     ]
    }
   ],
   "source": [
    "print(s)\n",
    "print(s1)"
   ]
  },
  {
   "cell_type": "code",
   "execution_count": 43,
   "id": "7e74997a",
   "metadata": {},
   "outputs": [
    {
     "name": "stdout",
     "output_type": "stream",
     "text": [
      "{1, 'Abhi', 5, 6}\n"
     ]
    }
   ],
   "source": [
    "# you can add anything hashable but cant unhashable elements\n",
    "s1.add(\"Abhi\")\n",
    "print(s1)"
   ]
  },
  {
   "cell_type": "code",
   "execution_count": 44,
   "id": "96510d56",
   "metadata": {},
   "outputs": [
    {
     "ename": "TypeError",
     "evalue": "unhashable type: 'set'",
     "output_type": "error",
     "traceback": [
      "\u001b[1;31m---------------------------------------------------------------------------\u001b[0m",
      "\u001b[1;31mTypeError\u001b[0m                                 Traceback (most recent call last)",
      "Input \u001b[1;32mIn [44]\u001b[0m, in \u001b[0;36m<cell line: 1>\u001b[1;34m()\u001b[0m\n\u001b[1;32m----> 1\u001b[0m S0\u001b[38;5;241m=\u001b[39m{\u001b[38;5;241m1\u001b[39m,\u001b[38;5;241m2\u001b[39m,{\u001b[38;5;241m4\u001b[39m,\u001b[38;5;241m6\u001b[39m}} \u001b[38;5;66;03m# u can't insert set here\u001b[39;00m\n\u001b[0;32m      2\u001b[0m \u001b[38;5;28mprint\u001b[39m(S0)\n",
      "\u001b[1;31mTypeError\u001b[0m: unhashable type: 'set'"
     ]
    }
   ],
   "source": [
    "S0={1,2,{4,6}} # u can't insert set here\n",
    "print(S0) # this gives error bcos set is kind of unhashable"
   ]
  },
  {
   "cell_type": "code",
   "execution_count": 45,
   "id": "44e766b5",
   "metadata": {},
   "outputs": [
    {
     "ename": "TypeError",
     "evalue": "unhashable type: 'list'",
     "output_type": "error",
     "traceback": [
      "\u001b[1;31m---------------------------------------------------------------------------\u001b[0m",
      "\u001b[1;31mTypeError\u001b[0m                                 Traceback (most recent call last)",
      "Input \u001b[1;32mIn [45]\u001b[0m, in \u001b[0;36m<cell line: 1>\u001b[1;34m()\u001b[0m\n\u001b[1;32m----> 1\u001b[0m \u001b[43ms1\u001b[49m\u001b[38;5;241;43m.\u001b[39;49m\u001b[43madd\u001b[49m\u001b[43m(\u001b[49m\u001b[43m[\u001b[49m\u001b[38;5;241;43m2\u001b[39;49m\u001b[43m,\u001b[49m\u001b[38;5;241;43m4\u001b[39;49m\u001b[43m]\u001b[49m\u001b[43m)\u001b[49m\n",
      "\u001b[1;31mTypeError\u001b[0m: unhashable type: 'list'"
     ]
    }
   ],
   "source": [
    "s1.add([2,4])"
   ]
  },
  {
   "cell_type": "code",
   "execution_count": 46,
   "id": "5cf9c1b4",
   "metadata": {},
   "outputs": [
    {
     "name": "stdout",
     "output_type": "stream",
     "text": [
      "{1, 5, 6, (34, 64), 'Abhi'}\n"
     ]
    }
   ],
   "source": [
    "s1.add((34,64))\n",
    "print(s1)"
   ]
  },
  {
   "cell_type": "markdown",
   "id": "12b5e45a",
   "metadata": {},
   "source": [
    "#####  update function: What's the difference between working of  update() ,and add()  ?\n",
    "* Ans: if we pass any hashable elements in add function, they get inserted in set while in update function you can pass only iterable\n",
    "* in add, you can pass only one argunment, but in update, you can pass more than one argunments provided every elements must be iterable\n",
    "* in update function,the iterable you are passing are not being added in set, but elements of iterables are being added in set. this is not the case for add(). in add hashable iterable object will be added in the set..\n",
    "see the examples"
   ]
  },
  {
   "cell_type": "code",
   "execution_count": 47,
   "id": "e0f51eca",
   "metadata": {},
   "outputs": [
    {
     "name": "stdout",
     "output_type": "stream",
     "text": [
      "{1, 5, 6, 10, (34, 64), 'Abhi', 20}\n"
     ]
    }
   ],
   "source": [
    "s1.update([10,20])\n",
    "print(s1)"
   ]
  },
  {
   "cell_type": "code",
   "execution_count": 48,
   "id": "26116bce",
   "metadata": {},
   "outputs": [],
   "source": [
    "s2=s1.update([10,20],range(4,9,2),\"is\")"
   ]
  },
  {
   "cell_type": "code",
   "execution_count": 49,
   "id": "dff96915",
   "metadata": {},
   "outputs": [
    {
     "name": "stdout",
     "output_type": "stream",
     "text": [
      "{'i', 1, 4, 5, 6, 8, 10, (34, 64), 'Abhi', 20, 's'}\n",
      "None\n"
     ]
    }
   ],
   "source": [
    "print(s1)\n",
    "print(s2)"
   ]
  },
  {
   "cell_type": "markdown",
   "id": "17e06746",
   "metadata": {},
   "source": [
    "## How to edit set objects\n",
    "what if i want to edit the 34,64 inside the tupple , or any other elements here in set s1?\n",
    "### Answer: this is not possible. Although, you can do it by first deleting it , and then adding new required element\n",
    ">#### but how we will delete any object in set?\n",
    "     here we have two option.. \n",
    "1. discard\n",
    "2. remove"
   ]
  },
  {
   "cell_type": "code",
   "execution_count": 50,
   "id": "03b4cbdc",
   "metadata": {},
   "outputs": [
    {
     "data": {
      "text/plain": [
       "{1, 10, 20, 4, 5, 6, 8, 'Abhi', 'i', 's'}"
      ]
     },
     "execution_count": 50,
     "metadata": {},
     "output_type": "execute_result"
    }
   ],
   "source": [
    "s1.discard((34,64))\n",
    "s1"
   ]
  },
  {
   "cell_type": "code",
   "execution_count": 51,
   "id": "f8713690",
   "metadata": {},
   "outputs": [
    {
     "data": {
      "text/plain": [
       "{(3, 45), 1, 10, 20, 4, 5, 6, 8, 'Abhi', 'i', 's'}"
      ]
     },
     "execution_count": 51,
     "metadata": {},
     "output_type": "execute_result"
    }
   ],
   "source": [
    "s1.add((3,45))\n",
    "s1"
   ]
  },
  {
   "cell_type": "markdown",
   "id": "8112e1ab",
   "metadata": {},
   "source": [
    "> #### what is the diffence between discard and remove?\n",
    "\n",
    "if we discard non existing element of set, it doesnt give error.. but remove gives error.. \n",
    "see examples below"
   ]
  },
  {
   "cell_type": "code",
   "execution_count": 52,
   "id": "1a7411a7",
   "metadata": {},
   "outputs": [],
   "source": [
    "s1.discard(95)# 95 is not here in this set..but still it wont give any error"
   ]
  },
  {
   "cell_type": "code",
   "execution_count": 53,
   "id": "e35f95b9",
   "metadata": {},
   "outputs": [
    {
     "ename": "KeyError",
     "evalue": "95",
     "output_type": "error",
     "traceback": [
      "\u001b[1;31m---------------------------------------------------------------------------\u001b[0m",
      "\u001b[1;31mKeyError\u001b[0m                                  Traceback (most recent call last)",
      "Input \u001b[1;32mIn [53]\u001b[0m, in \u001b[0;36m<cell line: 1>\u001b[1;34m()\u001b[0m\n\u001b[1;32m----> 1\u001b[0m \u001b[43ms1\u001b[49m\u001b[38;5;241;43m.\u001b[39;49m\u001b[43mremove\u001b[49m\u001b[43m(\u001b[49m\u001b[38;5;241;43m95\u001b[39;49m\u001b[43m)\u001b[49m\n",
      "\u001b[1;31mKeyError\u001b[0m: 95"
     ]
    }
   ],
   "source": [
    "s1.remove(95) # this will give error"
   ]
  },
  {
   "cell_type": "code",
   "execution_count": 56,
   "id": "8efdce0c",
   "metadata": {},
   "outputs": [
    {
     "data": {
      "text/plain": [
       "{3}"
      ]
     },
     "execution_count": 56,
     "metadata": {},
     "output_type": "execute_result"
    }
   ],
   "source": [
    "s01={1,2,3}\n",
    "s02={3,4,5}\n",
    "s02.intersection(s01)"
   ]
  },
  {
   "cell_type": "code",
   "execution_count": 57,
   "id": "71b30931",
   "metadata": {},
   "outputs": [
    {
     "data": {
      "text/plain": [
       "{1, 2, 3, 4, 5}"
      ]
     },
     "execution_count": 57,
     "metadata": {},
     "output_type": "execute_result"
    }
   ],
   "source": [
    "s02.union(s01)"
   ]
  },
  {
   "cell_type": "code",
   "execution_count": 58,
   "id": "c6087efd",
   "metadata": {},
   "outputs": [
    {
     "data": {
      "text/plain": [
       "{3}"
      ]
     },
     "execution_count": 58,
     "metadata": {},
     "output_type": "execute_result"
    }
   ],
   "source": [
    "s01.intersection(s02)"
   ]
  },
  {
   "cell_type": "code",
   "execution_count": 59,
   "id": "d25f0f39",
   "metadata": {},
   "outputs": [
    {
     "data": {
      "text/plain": [
       "{1, 2, 3, 4, 5}"
      ]
     },
     "execution_count": 59,
     "metadata": {},
     "output_type": "execute_result"
    }
   ],
   "source": [
    "s01.union(s02)"
   ]
  },
  {
   "cell_type": "markdown",
   "id": "e3373217",
   "metadata": {},
   "source": [
    "> ##### if you want to clear all elements from set, use clear().. it will become empty set after that"
   ]
  },
  {
   "cell_type": "code",
   "execution_count": 61,
   "id": "843a94ab",
   "metadata": {},
   "outputs": [
    {
     "name": "stdout",
     "output_type": "stream",
     "text": [
      "{3, 4, 5}\n"
     ]
    }
   ],
   "source": [
    "print(s02)\n",
    "s02.clear()"
   ]
  },
  {
   "cell_type": "code",
   "execution_count": 64,
   "id": "21d81a97",
   "metadata": {},
   "outputs": [
    {
     "name": "stdout",
     "output_type": "stream",
     "text": [
      "set()\n"
     ]
    },
    {
     "data": {
      "text/plain": [
       "set"
      ]
     },
     "execution_count": 64,
     "metadata": {},
     "output_type": "execute_result"
    }
   ],
   "source": [
    "print(s02)\n",
    "type(s02)"
   ]
  },
  {
   "cell_type": "code",
   "execution_count": 67,
   "id": "d139484f",
   "metadata": {},
   "outputs": [
    {
     "data": {
      "text/plain": [
       "{(3, 45), 1, 10, 20, 3, 4, 5, 6, 8, 'Abhi', 'i', 's'}"
      ]
     },
     "execution_count": 67,
     "metadata": {},
     "output_type": "execute_result"
    }
   ],
   "source": [
    "s1.add(3)\n",
    "s1"
   ]
  },
  {
   "cell_type": "code",
   "execution_count": 69,
   "id": "7e1e2b1c",
   "metadata": {},
   "outputs": [
    {
     "data": {
      "text/plain": [
       "True"
      ]
     },
     "execution_count": 69,
     "metadata": {},
     "output_type": "execute_result"
    }
   ],
   "source": [
    "s02.issubset(s1)"
   ]
  },
  {
   "cell_type": "code",
   "execution_count": 70,
   "id": "8595083a",
   "metadata": {},
   "outputs": [
    {
     "data": {
      "text/plain": [
       "True"
      ]
     },
     "execution_count": 70,
     "metadata": {},
     "output_type": "execute_result"
    }
   ],
   "source": [
    "s1.issuperset(s02)"
   ]
  },
  {
   "cell_type": "code",
   "execution_count": 72,
   "id": "9631d5ea",
   "metadata": {},
   "outputs": [
    {
     "data": {
      "text/plain": [
       "'i'"
      ]
     },
     "execution_count": 72,
     "metadata": {},
     "output_type": "execute_result"
    }
   ],
   "source": [
    "s1.pop()"
   ]
  },
  {
   "cell_type": "code",
   "execution_count": 73,
   "id": "d67d8be4",
   "metadata": {},
   "outputs": [
    {
     "data": {
      "text/plain": [
       "{(3, 45), 1, 10, 20, 3, 4, 5, 6, 8, 'Abhi', 's'}"
      ]
     },
     "execution_count": 73,
     "metadata": {},
     "output_type": "execute_result"
    }
   ],
   "source": [
    "s1"
   ]
  },
  {
   "cell_type": "code",
   "execution_count": 74,
   "id": "1e2dc132",
   "metadata": {},
   "outputs": [
    {
     "data": {
      "text/plain": [
       "1"
      ]
     },
     "execution_count": 74,
     "metadata": {},
     "output_type": "execute_result"
    }
   ],
   "source": [
    "s1.pop()"
   ]
  },
  {
   "cell_type": "code",
   "execution_count": 76,
   "id": "63ddbdca",
   "metadata": {},
   "outputs": [
    {
     "data": {
      "text/plain": [
       "3"
      ]
     },
     "execution_count": 76,
     "metadata": {},
     "output_type": "execute_result"
    }
   ],
   "source": [
    "s1.pop()"
   ]
  },
  {
   "cell_type": "code",
   "execution_count": 77,
   "id": "0564e477",
   "metadata": {},
   "outputs": [
    {
     "data": {
      "text/plain": [
       "4"
      ]
     },
     "execution_count": 77,
     "metadata": {},
     "output_type": "execute_result"
    }
   ],
   "source": [
    "s1.pop()"
   ]
  },
  {
   "cell_type": "markdown",
   "id": "bf4afc20",
   "metadata": {},
   "source": [
    "# 8.set comprehension\n",
    "> syntax: s1={expression for e in object}"
   ]
  },
  {
   "cell_type": "code",
   "execution_count": 80,
   "id": "d802eba9",
   "metadata": {},
   "outputs": [
    {
     "name": "stdout",
     "output_type": "stream",
     "text": [
      "enter the number34675\n"
     ]
    }
   ],
   "source": [
    "s10={int(x) for x in input(\"enter the number\")}"
   ]
  },
  {
   "cell_type": "code",
   "execution_count": 81,
   "id": "6970b5c4",
   "metadata": {},
   "outputs": [
    {
     "data": {
      "text/plain": [
       "{3, 4, 5, 6, 7}"
      ]
     },
     "execution_count": 81,
     "metadata": {},
     "output_type": "execute_result"
    }
   ],
   "source": [
    "s10"
   ]
  },
  {
   "cell_type": "code",
   "execution_count": 85,
   "id": "3c5af7ca",
   "metadata": {},
   "outputs": [
    {
     "ename": "SyntaxError",
     "evalue": "invalid syntax (<ipython-input-85-0987ff45ffb4>, line 1)",
     "output_type": "error",
     "traceback": [
      "\u001b[1;36m  Input \u001b[1;32mIn [85]\u001b[1;36m\u001b[0m\n\u001b[1;33m    s12={for x in input()} # this gives error because expression is missing\u001b[0m\n\u001b[1;37m         ^\u001b[0m\n\u001b[1;31mSyntaxError\u001b[0m\u001b[1;31m:\u001b[0m invalid syntax\n"
     ]
    }
   ],
   "source": [
    "s12={for x in input()} # this gives error because expression is missing"
   ]
  },
  {
   "cell_type": "code",
   "execution_count": 87,
   "id": "c48a83d0",
   "metadata": {},
   "outputs": [
    {
     "name": "stdout",
     "output_type": "stream",
     "text": [
      "enter the stringaueiyieew\n"
     ]
    }
   ],
   "source": [
    "S10=input(\"enter the string\")\n",
    "s21={e for e in S10 if e in \"aieou\"}"
   ]
  },
  {
   "cell_type": "code",
   "execution_count": 88,
   "id": "9e516687",
   "metadata": {},
   "outputs": [
    {
     "name": "stdout",
     "output_type": "stream",
     "text": [
      "{'i', 'a', 'u', 'e'}\n"
     ]
    }
   ],
   "source": [
    "print(s21)"
   ]
  },
  {
   "cell_type": "markdown",
   "id": "98a8c11f",
   "metadata": {},
   "source": [
    "# 9. User input"
   ]
  },
  {
   "cell_type": "code",
   "execution_count": 31,
   "id": "d0e70080",
   "metadata": {},
   "outputs": [
    {
     "name": "stdout",
     "output_type": "stream",
     "text": [
      "Enter elements separated by comma45,6,43,'L:'\n"
     ]
    },
    {
     "data": {
      "text/plain": [
       "{43, 45, 6, 'L:'}"
      ]
     },
     "execution_count": 31,
     "metadata": {},
     "output_type": "execute_result"
    }
   ],
   "source": [
    "s00=input(\"Enter elements separated by comma\")\n",
    "s11={eval(e) for e in s00.split(\",\")}\n",
    "s11"
   ]
  },
  {
   "cell_type": "code",
   "execution_count": 30,
   "id": "969e15c2",
   "metadata": {},
   "outputs": [
    {
     "name": "stdout",
     "output_type": "stream",
     "text": [
      "Enter elements separated by comma544\n"
     ]
    },
    {
     "data": {
      "text/plain": [
       "'544'"
      ]
     },
     "execution_count": 30,
     "metadata": {},
     "output_type": "execute_result"
    }
   ],
   "source": [
    "s00=input(\"Enter elements separated by comma\")\n",
    "s00"
   ]
  },
  {
   "cell_type": "code",
   "execution_count": 22,
   "id": "0080f6e6",
   "metadata": {},
   "outputs": [
    {
     "ename": "SyntaxError",
     "evalue": "invalid syntax (<ipython-input-22-ce6a6ad0bf21>, line 1)",
     "output_type": "error",
     "traceback": [
      "\u001b[1;36m  Input \u001b[1;32mIn [22]\u001b[1;36m\u001b[0m\n\u001b[1;33m    eval(x) for x in s00\u001b[0m\n\u001b[1;37m            ^\u001b[0m\n\u001b[1;31mSyntaxError\u001b[0m\u001b[1;31m:\u001b[0m invalid syntax\n"
     ]
    }
   ],
   "source": [
    "eval(x) for x in s00"
   ]
  },
  {
   "cell_type": "code",
   "execution_count": 18,
   "id": "d08e982b",
   "metadata": {},
   "outputs": [],
   "source": [
    "s_={\"Avg\",\"mean\",\"mode\",6}"
   ]
  },
  {
   "cell_type": "code",
   "execution_count": 19,
   "id": "42f54dad",
   "metadata": {},
   "outputs": [
    {
     "data": {
      "text/plain": [
       "{6, 'Avg', 'mean', 'mode'}"
      ]
     },
     "execution_count": 19,
     "metadata": {},
     "output_type": "execute_result"
    }
   ],
   "source": [
    "s_"
   ]
  },
  {
   "cell_type": "code",
   "execution_count": 25,
   "id": "36b0ffb8",
   "metadata": {},
   "outputs": [
    {
     "name": "stdout",
     "output_type": "stream",
     "text": [
      "enter a valuete,tewe,\n"
     ]
    }
   ],
   "source": [
    "st=input(\"enter a value\")"
   ]
  },
  {
   "cell_type": "code",
   "execution_count": 26,
   "id": "11ebd94f",
   "metadata": {},
   "outputs": [
    {
     "data": {
      "text/plain": [
       "'te,tewe,'"
      ]
     },
     "execution_count": 26,
     "metadata": {},
     "output_type": "execute_result"
    }
   ],
   "source": [
    "st"
   ]
  },
  {
   "cell_type": "code",
   "execution_count": null,
   "id": "7bb3ff47",
   "metadata": {},
   "outputs": [],
   "source": []
  }
 ],
 "metadata": {
  "kernelspec": {
   "display_name": "Python 3",
   "language": "python",
   "name": "python3"
  },
  "language_info": {
   "codemirror_mode": {
    "name": "ipython",
    "version": 3
   },
   "file_extension": ".py",
   "mimetype": "text/x-python",
   "name": "python",
   "nbconvert_exporter": "python",
   "pygments_lexer": "ipython3",
   "version": "3.8.8"
  }
 },
 "nbformat": 4,
 "nbformat_minor": 5
}
