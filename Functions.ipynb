{
  "nbformat": 4,
  "nbformat_minor": 0,
  "metadata": {
    "colab": {
      "provenance": [],
      "authorship_tag": "ABX9TyN0XxITj5MPmRQlnHs268Qy",
      "include_colab_link": true
    },
    "kernelspec": {
      "name": "python3",
      "display_name": "Python 3"
    },
    "language_info": {
      "name": "python"
    }
  },
  "cells": [
    {
      "cell_type": "markdown",
      "metadata": {
        "id": "view-in-github",
        "colab_type": "text"
      },
      "source": [
        "<a href=\"https://colab.research.google.com/github/0AbhishekChaturvedi/Python/blob/main/Functions.ipynb\" target=\"_parent\"><img src=\"https://colab.research.google.com/assets/colab-badge.svg\" alt=\"Open In Colab\"/></a>"
      ]
    },
    {
      "cell_type": "markdown",
      "source": [
        "###.Function Introduction\n",
        "> Function is a block of code which only runs when it is called. it is used for code reusability<br>\n",
        "Function has a name for identification.\n",
        "\n",
        "\n",
        "> Functions are of two types\n",
        "* Built in-> print,input,etc\n",
        "* user defined: you as a programmer can define ur own functions\n",
        "\n",
        "##### Syntax\n",
        "def fun_name(variable as input):<br>\n",
        "  \"\"\" here you write docstring which is optional.. after docstring you write your code and add return keyword in that code to make your function return soemthing\"\"\"<br>\n",
        "    code....<br>\n",
        "    return \n",
        "\n"
      ],
      "metadata": {
        "id": "pFOHbb253nLZ"
      }
    },
    {
      "cell_type": "code",
      "execution_count": 8,
      "metadata": {
        "id": "s4KG5JOU26if"
      },
      "outputs": [],
      "source": [
        "# Let's create first function (with docstring)\n",
        "def is_even(num):\n",
        "  \"\"\"\n",
        "  This function returns if given number is odd or even\n",
        "  input - any valid integer\n",
        "  output-odd/even\n",
        "  \"\"\"\n",
        "  if type(num)==int:\n",
        "    if num %2 ==0:\n",
        "      return \"even\"\n",
        "    else :\n",
        "      return 'odd'\n",
        "  else:\n",
        "    return \"this is not integer value\""
      ]
    },
    {
      "cell_type": "code",
      "source": [
        "# we have defined the function.. but let's call the function\n",
        "for i in range(1,11):\n",
        "  x=is_even(i)\n",
        "  print(x)\n"
      ],
      "metadata": {
        "colab": {
          "base_uri": "https://localhost:8080/"
        },
        "id": "BRRlxbDY7APr",
        "outputId": "7c3990f8-0ada-4883-ac41-a28228df3a20"
      },
      "execution_count": 9,
      "outputs": [
        {
          "output_type": "stream",
          "name": "stdout",
          "text": [
            "odd\n",
            "even\n",
            "odd\n",
            "even\n",
            "odd\n",
            "even\n",
            "odd\n",
            "even\n",
            "odd\n",
            "even\n"
          ]
        }
      ]
    },
    {
      "cell_type": "code",
      "source": [
        "is_even(\"gee\")"
      ],
      "metadata": {
        "colab": {
          "base_uri": "https://localhost:8080/",
          "height": 35
        },
        "id": "qywAM0JX7kbj",
        "outputId": "54878a94-0e80-41e5-dcd4-ebcc0baffab8"
      },
      "execution_count": 10,
      "outputs": [
        {
          "output_type": "execute_result",
          "data": {
            "text/plain": [
              "'this is not integer value'"
            ],
            "application/vnd.google.colaboratory.intrinsic+json": {
              "type": "string"
            }
          },
          "metadata": {},
          "execution_count": 10
        }
      ]
    },
    {
      "cell_type": "markdown",
      "source": [
        "### Parameters Vs Arguments\n",
        "while defining functions, inputs as variable are called the functions<br> and while calling functions, inputs are called the argunments\n",
        "\n",
        "### Types of Arguments\n",
        "there are various way of passing argunemt\n",
        "- Default Argument\n",
        "- Positional Argument\n",
        "- Keyword Argument"
      ],
      "metadata": {
        "id": "w3GMaveC9K8V"
      }
    },
    {
      "cell_type": "code",
      "source": [
        "# Default Argunment: Here you set default value to your parameters\n",
        "# if you dont pass any values while calling the function, it wont give you\n",
        "# error .. instead it will assume the default value as argunment\n",
        "def power(a,b):\n",
        "  return a**b"
      ],
      "metadata": {
        "id": "T7tP_SUa7kmu"
      },
      "execution_count": 14,
      "outputs": []
    },
    {
      "cell_type": "code",
      "source": [
        "power(2)"
      ],
      "metadata": {
        "colab": {
          "base_uri": "https://localhost:8080/",
          "height": 166
        },
        "id": "VCKyrbAZ7kqc",
        "outputId": "e1bf48d5-9b75-467e-d9a9-51d529e7f7db"
      },
      "execution_count": 12,
      "outputs": [
        {
          "output_type": "error",
          "ename": "TypeError",
          "evalue": "ignored",
          "traceback": [
            "\u001b[0;31m---------------------------------------------------------------------------\u001b[0m",
            "\u001b[0;31mTypeError\u001b[0m                                 Traceback (most recent call last)",
            "\u001b[0;32m<ipython-input-12-d32e0df8244d>\u001b[0m in \u001b[0;36m<module>\u001b[0;34m\u001b[0m\n\u001b[0;32m----> 1\u001b[0;31m \u001b[0mpower\u001b[0m\u001b[0;34m(\u001b[0m\u001b[0;36m2\u001b[0m\u001b[0;34m)\u001b[0m\u001b[0;34m\u001b[0m\u001b[0;34m\u001b[0m\u001b[0m\n\u001b[0m",
            "\u001b[0;31mTypeError\u001b[0m: power() missing 1 required positional argument: 'b'"
          ]
        }
      ]
    },
    {
      "cell_type": "code",
      "source": [
        "# here i have set the default values of a and b are 2, and 3\n",
        "def power(a=2,b=3):\n",
        "  return a**b"
      ],
      "metadata": {
        "id": "1vdthRL57ktt"
      },
      "execution_count": 27,
      "outputs": []
    },
    {
      "cell_type": "code",
      "source": [
        "power(3,5)"
      ],
      "metadata": {
        "colab": {
          "base_uri": "https://localhost:8080/"
        },
        "id": "lAilt3MK-8Pm",
        "outputId": "79d027b5-a1bb-452a-e24f-fe5bd3fd94dd"
      },
      "execution_count": 28,
      "outputs": [
        {
          "output_type": "execute_result",
          "data": {
            "text/plain": [
              "243"
            ]
          },
          "metadata": {},
          "execution_count": 28
        }
      ]
    },
    {
      "cell_type": "code",
      "source": [
        "# Here we have passed the value of a only but it has assumed the value of b , the default value of b\n",
        "# that's why output is 64\n",
        "power(4)"
      ],
      "metadata": {
        "colab": {
          "base_uri": "https://localhost:8080/"
        },
        "id": "4o6bdwNf_Bqx",
        "outputId": "d751ef5c-3e79-444d-b897-72c6d6275877"
      },
      "execution_count": 29,
      "outputs": [
        {
          "output_type": "execute_result",
          "data": {
            "text/plain": [
              "64"
            ]
          },
          "metadata": {},
          "execution_count": 29
        }
      ]
    },
    {
      "cell_type": "code",
      "source": [
        "power()"
      ],
      "metadata": {
        "colab": {
          "base_uri": "https://localhost:8080/"
        },
        "id": "jIkeYL-1-_Xx",
        "outputId": "ec1cdeb6-7a07-426b-8937-592eac7ae3ea"
      },
      "execution_count": 30,
      "outputs": [
        {
          "output_type": "execute_result",
          "data": {
            "text/plain": [
              "8"
            ]
          },
          "metadata": {},
          "execution_count": 30
        }
      ]
    },
    {
      "cell_type": "code",
      "source": [
        "# positional argunment\n",
        "power(2,5)"
      ],
      "metadata": {
        "colab": {
          "base_uri": "https://localhost:8080/"
        },
        "id": "ghuF9UorAc4b",
        "outputId": "7a092654-952c-4bf0-fe13-a69d8ba506a0"
      },
      "execution_count": 32,
      "outputs": [
        {
          "output_type": "execute_result",
          "data": {
            "text/plain": [
              "32"
            ]
          },
          "metadata": {},
          "execution_count": 32
        }
      ]
    },
    {
      "cell_type": "markdown",
      "source": [
        "Why did we get 2<sup>5</sup> = 32 as output in above cell instead of 5<sup>2</sup> = 25.. It seems to  have something to do with order/position .. right?<br>\n",
        "yes when you pass the argunments to function, it follow the same order the way parameter are made...\n",
        "And this default behavior is called the ### positional argunment\n",
        "\n",
        "\n",
        "\n"
      ],
      "metadata": {
        "id": "l71QOaERByjE"
      }
    },
    {
      "cell_type": "code",
      "source": [
        "\"\"\"keyword argunments: while passing the argunment, you can pass them\n",
        "by calling their name(parameters' name).. here  the function doesn't follow positional \n",
        " argunment\"\"\"\n",
        "power(b=4,a=3)\n"
      ],
      "metadata": {
        "colab": {
          "base_uri": "https://localhost:8080/"
        },
        "id": "-lWHlw4mBUpT",
        "outputId": "762f98a6-06ae-4e51-ad7a-accd752f9211"
      },
      "execution_count": 33,
      "outputs": [
        {
          "output_type": "execute_result",
          "data": {
            "text/plain": [
              "81"
            ]
          },
          "metadata": {},
          "execution_count": 33
        }
      ]
    },
    {
      "cell_type": "markdown",
      "source": [
        "### `*args and **kwargs`\n",
        "`*args and **kwargs` are special Python keywords that are used to pass the variable length of arguments to a function"
      ],
      "metadata": {
        "id": "nUNAwisiHjos"
      }
    },
    {
      "cell_type": "code",
      "source": [],
      "metadata": {
        "id": "AEm_xYgXGpfm"
      },
      "execution_count": null,
      "outputs": []
    }
  ]
}