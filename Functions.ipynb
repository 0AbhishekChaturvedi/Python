{
  "nbformat": 4,
  "nbformat_minor": 0,
  "metadata": {
    "colab": {
      "provenance": [],
      "authorship_tag": "ABX9TyPFeEfOVtvpn09yN9hj2AZ1",
      "include_colab_link": true
    },
    "kernelspec": {
      "name": "python3",
      "display_name": "Python 3"
    },
    "language_info": {
      "name": "python"
    }
  },
  "cells": [
    {
      "cell_type": "markdown",
      "metadata": {
        "id": "view-in-github",
        "colab_type": "text"
      },
      "source": [
        "<a href=\"https://colab.research.google.com/github/0AbhishekChaturvedi/Python/blob/main/Functions.ipynb\" target=\"_parent\"><img src=\"https://colab.research.google.com/assets/colab-badge.svg\" alt=\"Open In Colab\"/></a>"
      ]
    },
    {
      "cell_type": "markdown",
      "source": [
        "###.Function Introduction\n",
        "> Function is a block of code which only runs when it is called. it is used for code reusability<br>\n",
        "Function has a name for identification.\n",
        "\n",
        "\n",
        "> Functions are of two types\n",
        "* Built in-> print,input,etc\n",
        "* user defined: you as a programmer can define ur own functions\n",
        "\n",
        "##### Syntax\n",
        "def fun_name(variable as input):<br>\n",
        "  \"\"\" here you write docstring which is optional.. after docstring you write your code and add return keyword in that code to make your function return soemthing\"\"\"<br>\n",
        "    code....<br>\n",
        "    return \n",
        "\n"
      ],
      "metadata": {
        "id": "pFOHbb253nLZ"
      }
    },
    {
      "cell_type": "code",
      "execution_count": 8,
      "metadata": {
        "id": "s4KG5JOU26if"
      },
      "outputs": [],
      "source": [
        "# Let's create first function (with docstring)\n",
        "def is_even(num):\n",
        "  \"\"\"\n",
        "  This function returns if given number is odd or even\n",
        "  input - any valid integer\n",
        "  output-odd/even\n",
        "  \"\"\"\n",
        "  if type(num)==int:\n",
        "    if num %2 ==0:\n",
        "      return \"even\"\n",
        "    else :\n",
        "      return 'odd'\n",
        "  else:\n",
        "    return \"this is not integer value\""
      ]
    },
    {
      "cell_type": "code",
      "source": [
        "# we have defined the function.. but let's call the function\n",
        "for i in range(1,11):\n",
        "  x=is_even(i)\n",
        "  print(x)\n"
      ],
      "metadata": {
        "colab": {
          "base_uri": "https://localhost:8080/"
        },
        "id": "BRRlxbDY7APr",
        "outputId": "7c3990f8-0ada-4883-ac41-a28228df3a20"
      },
      "execution_count": 9,
      "outputs": [
        {
          "output_type": "stream",
          "name": "stdout",
          "text": [
            "odd\n",
            "even\n",
            "odd\n",
            "even\n",
            "odd\n",
            "even\n",
            "odd\n",
            "even\n",
            "odd\n",
            "even\n"
          ]
        }
      ]
    },
    {
      "cell_type": "code",
      "source": [
        "is_even(\"gee\")"
      ],
      "metadata": {
        "colab": {
          "base_uri": "https://localhost:8080/",
          "height": 35
        },
        "id": "qywAM0JX7kbj",
        "outputId": "54878a94-0e80-41e5-dcd4-ebcc0baffab8"
      },
      "execution_count": 10,
      "outputs": [
        {
          "output_type": "execute_result",
          "data": {
            "text/plain": [
              "'this is not integer value'"
            ],
            "application/vnd.google.colaboratory.intrinsic+json": {
              "type": "string"
            }
          },
          "metadata": {},
          "execution_count": 10
        }
      ]
    },
    {
      "cell_type": "markdown",
      "source": [
        "### Parameters Vs Arguments\n",
        "while defining functions, inputs as variable are called the functions<br> and while calling functions, inputs are called the argunments\n",
        "\n",
        "### Types of Arguments\n",
        "there are various way of passing argunemt\n",
        "- Default Argument\n",
        "- Positional Argument\n",
        "- Keyword Argument"
      ],
      "metadata": {
        "id": "w3GMaveC9K8V"
      }
    },
    {
      "cell_type": "code",
      "source": [
        "# Default Argunment: Here you set default value to your parameters\n",
        "# if you dont pass any values while calling the function, it wont give you\n",
        "# error .. instead it will assume the default value as argunment\n",
        "def power(a,b):\n",
        "  return a**b"
      ],
      "metadata": {
        "id": "T7tP_SUa7kmu"
      },
      "execution_count": 14,
      "outputs": []
    },
    {
      "cell_type": "code",
      "source": [
        "power(2)"
      ],
      "metadata": {
        "colab": {
          "base_uri": "https://localhost:8080/",
          "height": 166
        },
        "id": "VCKyrbAZ7kqc",
        "outputId": "e1bf48d5-9b75-467e-d9a9-51d529e7f7db"
      },
      "execution_count": 12,
      "outputs": [
        {
          "output_type": "error",
          "ename": "TypeError",
          "evalue": "ignored",
          "traceback": [
            "\u001b[0;31m---------------------------------------------------------------------------\u001b[0m",
            "\u001b[0;31mTypeError\u001b[0m                                 Traceback (most recent call last)",
            "\u001b[0;32m<ipython-input-12-d32e0df8244d>\u001b[0m in \u001b[0;36m<module>\u001b[0;34m\u001b[0m\n\u001b[0;32m----> 1\u001b[0;31m \u001b[0mpower\u001b[0m\u001b[0;34m(\u001b[0m\u001b[0;36m2\u001b[0m\u001b[0;34m)\u001b[0m\u001b[0;34m\u001b[0m\u001b[0;34m\u001b[0m\u001b[0m\n\u001b[0m",
            "\u001b[0;31mTypeError\u001b[0m: power() missing 1 required positional argument: 'b'"
          ]
        }
      ]
    },
    {
      "cell_type": "code",
      "source": [
        "# here i have set the default values of a and b are 2, and 3\n",
        "def power(a=2,b=3):\n",
        "  return a**b"
      ],
      "metadata": {
        "id": "1vdthRL57ktt"
      },
      "execution_count": 20,
      "outputs": []
    },
    {
      "cell_type": "code",
      "source": [
        "power(3,5)"
      ],
      "metadata": {
        "colab": {
          "base_uri": "https://localhost:8080/"
        },
        "id": "lAilt3MK-8Pm",
        "outputId": "0cecf5c4-8daf-49c5-f601-a9ce08c63070"
      },
      "execution_count": 21,
      "outputs": [
        {
          "output_type": "execute_result",
          "data": {
            "text/plain": [
              "243"
            ]
          },
          "metadata": {},
          "execution_count": 21
        }
      ]
    },
    {
      "cell_type": "code",
      "source": [
        "power()"
      ],
      "metadata": {
        "colab": {
          "base_uri": "https://localhost:8080/"
        },
        "id": "jIkeYL-1-_Xx",
        "outputId": "65a17f37-490a-44ce-d8d1-852fe656a640"
      },
      "execution_count": 22,
      "outputs": [
        {
          "output_type": "execute_result",
          "data": {
            "text/plain": [
              "8"
            ]
          },
          "metadata": {},
          "execution_count": 22
        }
      ]
    },
    {
      "cell_type": "code",
      "source": [],
      "metadata": {
        "id": "4o6bdwNf_Bqx"
      },
      "execution_count": null,
      "outputs": []
    }
  ]
}