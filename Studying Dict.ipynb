{
 "cells": [
  {
   "cell_type": "markdown",
   "id": "f4482fda",
   "metadata": {},
   "source": [
    "# Dict\n",
    "### Agenda today\n",
    "1. Dict introduction\n",
    "2. Creating Dict Object\n",
    "3. Accessing dict elements\n",
    "4. buil-in methods\n",
    "5. concatenation and repetition\n",
    "6. comparison operator\n",
    "7. dict object methods\n",
    "8. dict comprehension\n",
    "9. user input\n"
   ]
  },
  {
   "cell_type": "markdown",
   "id": "157e55fc",
   "metadata": {},
   "source": [
    "# 1.Dict introdcution \n",
    "> * Dict elements are pair of key-value and data-value\n",
    "> * Dict is a class \n",
    "> * Dict is mutable\n",
    "> * Dict is not hashable\n",
    "> * Dict is iterable\n",
    "> * Dict cannot have duplicate keys(not data-values)\n",
    "> * indexing is not applicable to dict object \n",
    "> * slicing operator is not applicable\n",
    "> * Data value can be repeated"
   ]
  },
  {
   "cell_type": "markdown",
   "id": "f2ac0d92",
   "metadata": {},
   "source": [
    "# 2. How to create Dict Object\n",
    "> Ques: When to create dict object\n",
    "\n",
    "> Answer: We create dict object when we have to store data in pair..we have to store associated data.. for example\n",
    "* Roll no        Student name\n",
    "* 102            \"Rahul\"\n",
    "* 103           \"Payal\"\n",
    "* 106            \"Arjun\"\n",
    "* 107            \"Prachi\""
   ]
  },
  {
   "cell_type": "code",
   "execution_count": 21,
   "id": "6d2c3532",
   "metadata": {},
   "outputs": [],
   "source": [
    "d1={102:\"Rahul\",103:\"payal\",106:\"Arjun\",107:\"Prachi\"}"
   ]
  },
  {
   "cell_type": "code",
   "execution_count": 22,
   "id": "ffe8856f",
   "metadata": {},
   "outputs": [],
   "source": [
    "d2={}"
   ]
  },
  {
   "cell_type": "markdown",
   "id": "fb841de9",
   "metadata": {},
   "source": [
    "> Note: When we create dict object through dict function, we dont separate key-data with :, we separate with =..actually with keywords argunment in function.. \n",
    "Whenever you pass keyword argunment in dict function, the variable will become key-value as a string"
   ]
  },
  {
   "cell_type": "code",
   "execution_count": 23,
   "id": "c294a1fc",
   "metadata": {},
   "outputs": [
    {
     "name": "stdout",
     "output_type": "stream",
     "text": [
      "{'a': 10, 'b': 10, 'c': 30}\n"
     ]
    }
   ],
   "source": [
    "# you can't pass constant in variable in dict function because of its keyword argunment\n",
    "d01=dict(a=10,b=10,c=30)\n",
    "print(d01)"
   ]
  },
  {
   "cell_type": "markdown",
   "id": "7d032ac0",
   "metadata": {},
   "source": [
    "> key-value can be any type...\n",
    "data-value can also be of any type\n",
    "but when you are creating dict object with dict function, the key-values will always be of str type"
   ]
  },
  {
   "cell_type": "code",
   "execution_count": 24,
   "id": "0be523c5",
   "metadata": {},
   "outputs": [],
   "source": [
    "d={105:\"Abhishek\",\"G\":235}"
   ]
  },
  {
   "cell_type": "code",
   "execution_count": 25,
   "id": "398b8a42",
   "metadata": {
    "scrolled": true
   },
   "outputs": [
    {
     "name": "stdout",
     "output_type": "stream",
     "text": [
      "{105: 'Abhishek', 'G': 235}\n"
     ]
    },
    {
     "data": {
      "text/plain": [
       "dict"
      ]
     },
     "execution_count": 25,
     "metadata": {},
     "output_type": "execute_result"
    }
   ],
   "source": [
    "print(d)\n",
    "type(d)"
   ]
  },
  {
   "cell_type": "code",
   "execution_count": 26,
   "id": "f86d773c",
   "metadata": {},
   "outputs": [
    {
     "name": "stdout",
     "output_type": "stream",
     "text": [
      "{102: 'Rahul', 103: 'payal', 106: 'Arjun', 107: 'Prachi'}\n"
     ]
    }
   ],
   "source": [
    "print(d1)"
   ]
  },
  {
   "cell_type": "markdown",
   "id": "f36332cd",
   "metadata": {},
   "source": [
    "# 3.you can access data value"
   ]
  },
  {
   "cell_type": "code",
   "execution_count": 27,
   "id": "d740eba1",
   "metadata": {},
   "outputs": [
    {
     "name": "stdout",
     "output_type": "stream",
     "text": [
      "Rahul\n"
     ]
    }
   ],
   "source": [
    "# you can access data value through key value\n",
    "print(d1[102])"
   ]
  },
  {
   "cell_type": "code",
   "execution_count": 28,
   "id": "1abc408b",
   "metadata": {},
   "outputs": [
    {
     "data": {
      "text/plain": [
       "'payal'"
      ]
     },
     "execution_count": 28,
     "metadata": {},
     "output_type": "execute_result"
    }
   ],
   "source": [
    "d1[103]"
   ]
  },
  {
   "cell_type": "code",
   "execution_count": 29,
   "id": "6af4512f",
   "metadata": {},
   "outputs": [
    {
     "name": "stdout",
     "output_type": "stream",
     "text": [
      "102\n",
      "103\n",
      "106\n",
      "107\n"
     ]
    }
   ],
   "source": [
    "# you can access them through for loop..in k every key will be accessed\n",
    "for k in d1:\n",
    "    print(k) "
   ]
  },
  {
   "cell_type": "code",
   "execution_count": 30,
   "id": "02e7e715",
   "metadata": {},
   "outputs": [
    {
     "name": "stdout",
     "output_type": "stream",
     "text": [
      "102 : Rahul\n",
      "103 : payal\n",
      "106 : Arjun\n",
      "107 : Prachi\n"
     ]
    }
   ],
   "source": [
    "for k in d1:\n",
    "    print(k,\":\",d1[k])"
   ]
  },
  {
   "cell_type": "markdown",
   "id": "4d046883",
   "metadata": {},
   "source": [
    "# 4. How to edit dict element\n",
    "> editing dict element means you want to change its data value. You cant change its key value.. for changing key value, you have to delete key value and then add it."
   ]
  },
  {
   "cell_type": "code",
   "execution_count": 31,
   "id": "eba19b1c",
   "metadata": {},
   "outputs": [
    {
     "data": {
      "text/plain": [
       "{102: 'Rahul', 103: 'payal', 106: 'Arjun', 107: 'Prachi'}"
      ]
     },
     "execution_count": 31,
     "metadata": {},
     "output_type": "execute_result"
    }
   ],
   "source": [
    "d1"
   ]
  },
  {
   "cell_type": "code",
   "execution_count": 32,
   "id": "34b86a65",
   "metadata": {},
   "outputs": [],
   "source": [
    "# let's say we want to change Rahul to Ravi\n",
    "# syntax= dictobject[key value]= data value (you want to edit)\n",
    "d1[102]=\"Ravi\""
   ]
  },
  {
   "cell_type": "code",
   "execution_count": 33,
   "id": "326f1ed7",
   "metadata": {},
   "outputs": [
    {
     "data": {
      "text/plain": [
       "{102: 'Ravi', 103: 'payal', 106: 'Arjun', 107: 'Prachi'}"
      ]
     },
     "execution_count": 33,
     "metadata": {},
     "output_type": "execute_result"
    }
   ],
   "source": [
    "d1"
   ]
  },
  {
   "cell_type": "code",
   "execution_count": 34,
   "id": "f64208b2",
   "metadata": {},
   "outputs": [
    {
     "data": {
      "text/plain": [
       "{105: 'Abhishek', 'G': 235}"
      ]
     },
     "execution_count": 34,
     "metadata": {},
     "output_type": "execute_result"
    }
   ],
   "source": [
    "d"
   ]
  },
  {
   "cell_type": "code",
   "execution_count": 35,
   "id": "78805f60",
   "metadata": {},
   "outputs": [
    {
     "name": "stdout",
     "output_type": "stream",
     "text": [
      "{105: 'Abhishek', 'G': 200}\n"
     ]
    }
   ],
   "source": [
    "d['G']=200\n",
    "print(d)"
   ]
  },
  {
   "cell_type": "markdown",
   "id": "68c9a8af",
   "metadata": {},
   "source": [
    "> ##### if you want to associate mutliple data values with single key, you have to pass list or tuple"
   ]
  },
  {
   "cell_type": "code",
   "execution_count": 36,
   "id": "71954ce0",
   "metadata": {},
   "outputs": [],
   "source": [
    "d[105]=[\"Abhishek\",800,\"Swati\"]"
   ]
  },
  {
   "cell_type": "code",
   "execution_count": 37,
   "id": "c11895f0",
   "metadata": {},
   "outputs": [
    {
     "data": {
      "text/plain": [
       "{105: ['Abhishek', 800, 'Swati'], 'G': 200}"
      ]
     },
     "execution_count": 37,
     "metadata": {},
     "output_type": "execute_result"
    }
   ],
   "source": [
    "d"
   ]
  },
  {
   "cell_type": "markdown",
   "id": "34eb829e",
   "metadata": {},
   "source": [
    "# 5. How to change the key value by deleting and adding"
   ]
  },
  {
   "cell_type": "code",
   "execution_count": 38,
   "id": "a54eaba4",
   "metadata": {},
   "outputs": [
    {
     "data": {
      "text/plain": [
       "{102: 'Ravi', 103: 'payal', 106: 'Arjun', 107: 'Prachi'}"
      ]
     },
     "execution_count": 38,
     "metadata": {},
     "output_type": "execute_result"
    }
   ],
   "source": [
    "# what if u want to change the key 102 to 101\n",
    "d1"
   ]
  },
  {
   "cell_type": "code",
   "execution_count": 39,
   "id": "bcf14c54",
   "metadata": {},
   "outputs": [
    {
     "name": "stdout",
     "output_type": "stream",
     "text": [
      "{103: 'payal', 106: 'Arjun', 107: 'Prachi'}\n"
     ]
    }
   ],
   "source": [
    "# for this we have to del the key\n",
    "del d1[102]\n",
    "print(d1)"
   ]
  },
  {
   "cell_type": "markdown",
   "id": "adc21e00",
   "metadata": {},
   "source": [
    "### now you can add new element in the dictionary\n",
    "> syntax= dictobject[new value]=data-value.\n",
    "syntax of editing and adding is the same.. when key-value \n",
    "already exists, it gets edited.. and when key value doesnt exist, it gets added..."
   ]
  },
  {
   "cell_type": "code",
   "execution_count": 40,
   "id": "f5c5d130",
   "metadata": {},
   "outputs": [
    {
     "name": "stdout",
     "output_type": "stream",
     "text": [
      "{103: 'payal', 106: 'Arjun', 107: 'Prachi', 101: 'Ravi'}\n"
     ]
    }
   ],
   "source": [
    "d1[101]=\"Ravi\"\n",
    "print(d1)"
   ]
  },
  {
   "cell_type": "markdown",
   "id": "352c6815",
   "metadata": {},
   "source": [
    "#  6.Special methods of dict class\n",
    "* items() : returns collection of dict elements\n",
    "* keys (): returns collection of key-values of the dict elements\n",
    "* values(): returns collection of data-values of the elements\n",
    "> #### All these methods are attributes of dict class. Althoug, we have others attributes as well which we will see later in this class. "
   ]
  },
  {
   "cell_type": "code",
   "execution_count": 57,
   "id": "fef13a51",
   "metadata": {},
   "outputs": [
    {
     "name": "stdout",
     "output_type": "stream",
     "text": [
      "dict_items([(103, 'payal'), (106, 'Arjun'), (107, 'Prachi'), (101, 'Ravi')])\n",
      "<class 'dict_items'>\n"
     ]
    }
   ],
   "source": [
    "# you can check the data type of d1.items as well..\n",
    "# you will notice that there is class of dict_items.. so it \n",
    "# returns the object of \"dict_items\" class..\n",
    "# here in dict_items, each dict element is a tuple...\n",
    "# is this dict_items class is also iterable?\n",
    "# yes, it is also iterble.. we can apply for loop on this\n",
    "print(d1.items())\n",
    "print(type(d1.items()))"
   ]
  },
  {
   "cell_type": "code",
   "execution_count": 58,
   "id": "0d16d6ad",
   "metadata": {
    "scrolled": true
   },
   "outputs": [
    {
     "name": "stdout",
     "output_type": "stream",
     "text": [
      "(103, 'payal')\n",
      "(106, 'Arjun')\n",
      "(107, 'Prachi')\n",
      "(101, 'Ravi')\n"
     ]
    }
   ],
   "source": [
    "for x in d1.items():\n",
    "    print(x)"
   ]
  },
  {
   "cell_type": "code",
   "execution_count": 59,
   "id": "f78d93f6",
   "metadata": {},
   "outputs": [
    {
     "name": "stdout",
     "output_type": "stream",
     "text": [
      "103 payal\n",
      "106 Arjun\n",
      "107 Prachi\n",
      "101 Ravi\n"
     ]
    }
   ],
   "source": [
    "# here we are doing unpacking\n",
    "for k,v in d1.items():\n",
    "    print(k,v)\n",
    "    "
   ]
  },
  {
   "cell_type": "code",
   "execution_count": 61,
   "id": "366cde93",
   "metadata": {},
   "outputs": [
    {
     "name": "stdout",
     "output_type": "stream",
     "text": [
      "dict_keys([103, 106, 107, 101])\n",
      "<class 'dict_keys'>\n"
     ]
    }
   ],
   "source": [
    "# this returns the object of \"dict_keys\" class.. and this returns\n",
    "# only key-values\n",
    "print(d1.keys())\n",
    "print(type(d1.keys()))"
   ]
  },
  {
   "cell_type": "code",
   "execution_count": 60,
   "id": "a687490b",
   "metadata": {},
   "outputs": [
    {
     "name": "stdout",
     "output_type": "stream",
     "text": [
      "103\n",
      "106\n",
      "107\n",
      "101\n"
     ]
    }
   ],
   "source": [
    "for k in d1.keys():\n",
    "    print(k)"
   ]
  },
  {
   "cell_type": "code",
   "execution_count": 62,
   "id": "8febe136",
   "metadata": {},
   "outputs": [
    {
     "name": "stdout",
     "output_type": "stream",
     "text": [
      "dict_values(['payal', 'Arjun', 'Prachi', 'Ravi'])\n",
      "<class 'dict_values'>\n"
     ]
    }
   ],
   "source": [
    "# this returns the object of \"dict_values\" class.. and this returns\n",
    "# only data-values\n",
    "print(d1.values())\n",
    "print(type(d1.values()))"
   ]
  },
  {
   "cell_type": "code",
   "execution_count": 63,
   "id": "06f314e0",
   "metadata": {},
   "outputs": [
    {
     "name": "stdout",
     "output_type": "stream",
     "text": [
      "payal\n",
      "Arjun\n",
      "Prachi\n",
      "Ravi\n"
     ]
    }
   ],
   "source": [
    "for d in d1.values():\n",
    "    print(d)"
   ]
  },
  {
   "cell_type": "markdown",
   "id": "c268160f",
   "metadata": {},
   "source": [
    "# 7.built-in methods\n",
    "* len(): returns the value of no of paired values\n",
    "* min(): returns the minimum of key-values.. will give error if datas are not appliable\n",
    "* max(): returns the maximum of key-values... will give      error if datas are not appliable\n",
    "* sum(): returns the sum of key-values.. will give error if keys data are of different type \n",
    "* sorted():  return the list of sorted key-values"
   ]
  },
  {
   "cell_type": "code",
   "execution_count": 64,
   "id": "d434862c",
   "metadata": {},
   "outputs": [
    {
     "data": {
      "text/plain": [
       "4"
      ]
     },
     "execution_count": 64,
     "metadata": {},
     "output_type": "execute_result"
    }
   ],
   "source": [
    "len(d1)"
   ]
  },
  {
   "cell_type": "code",
   "execution_count": 65,
   "id": "73b55cf4",
   "metadata": {},
   "outputs": [
    {
     "data": {
      "text/plain": [
       "101"
      ]
     },
     "execution_count": 65,
     "metadata": {},
     "output_type": "execute_result"
    }
   ],
   "source": [
    "min(d1)"
   ]
  },
  {
   "cell_type": "code",
   "execution_count": 66,
   "id": "c07657c2",
   "metadata": {},
   "outputs": [
    {
     "data": {
      "text/plain": [
       "107"
      ]
     },
     "execution_count": 66,
     "metadata": {},
     "output_type": "execute_result"
    }
   ],
   "source": [
    "max(d1)"
   ]
  },
  {
   "cell_type": "code",
   "execution_count": 67,
   "id": "520fc8bc",
   "metadata": {},
   "outputs": [
    {
     "data": {
      "text/plain": [
       "417"
      ]
     },
     "execution_count": 67,
     "metadata": {},
     "output_type": "execute_result"
    }
   ],
   "source": [
    "sum(d1)"
   ]
  },
  {
   "cell_type": "code",
   "execution_count": 68,
   "id": "c847f62a",
   "metadata": {},
   "outputs": [
    {
     "data": {
      "text/plain": [
       "[101, 103, 106, 107]"
      ]
     },
     "execution_count": 68,
     "metadata": {},
     "output_type": "execute_result"
    }
   ],
   "source": [
    "sorted(d1)"
   ]
  },
  {
   "cell_type": "code",
   "execution_count": 70,
   "id": "a4495f14",
   "metadata": {},
   "outputs": [
    {
     "name": "stdout",
     "output_type": "stream",
     "text": [
      "{'a': 10, 'b': 10, 'c': 30, 'd': 'Abhi'}\n"
     ]
    }
   ],
   "source": [
    "d01[\"d\"]=\"Abhi\"\n",
    "print(d01)"
   ]
  },
  {
   "cell_type": "code",
   "execution_count": 71,
   "id": "6602f5c2",
   "metadata": {},
   "outputs": [
    {
     "name": "stdout",
     "output_type": "stream",
     "text": [
      "{'a': 10, 'b': 10, 'c': 30, 'd': 'Abhi', 24: 36}\n"
     ]
    }
   ],
   "source": [
    "d01[24]=36\n",
    "print(d01)"
   ]
  },
  {
   "cell_type": "code",
   "execution_count": 73,
   "id": "2168eb18",
   "metadata": {},
   "outputs": [
    {
     "ename": "TypeError",
     "evalue": "unsupported operand type(s) for +: 'int' and 'str'",
     "output_type": "error",
     "traceback": [
      "\u001b[1;31m---------------------------------------------------------------------------\u001b[0m",
      "\u001b[1;31mTypeError\u001b[0m                                 Traceback (most recent call last)",
      "Input \u001b[1;32mIn [73]\u001b[0m, in \u001b[0;36m<cell line: 1>\u001b[1;34m()\u001b[0m\n\u001b[1;32m----> 1\u001b[0m \u001b[38;5;28;43msum\u001b[39;49m\u001b[43m(\u001b[49m\u001b[43md01\u001b[49m\u001b[43m)\u001b[49m\n",
      "\u001b[1;31mTypeError\u001b[0m: unsupported operand type(s) for +: 'int' and 'str'"
     ]
    }
   ],
   "source": [
    "sum(d01)"
   ]
  },
  {
   "cell_type": "code",
   "execution_count": 74,
   "id": "1337d2e3",
   "metadata": {},
   "outputs": [
    {
     "ename": "TypeError",
     "evalue": "'>' not supported between instances of 'int' and 'str'",
     "output_type": "error",
     "traceback": [
      "\u001b[1;31m---------------------------------------------------------------------------\u001b[0m",
      "\u001b[1;31mTypeError\u001b[0m                                 Traceback (most recent call last)",
      "Input \u001b[1;32mIn [74]\u001b[0m, in \u001b[0;36m<cell line: 1>\u001b[1;34m()\u001b[0m\n\u001b[1;32m----> 1\u001b[0m \u001b[38;5;28;43mmax\u001b[39;49m\u001b[43m(\u001b[49m\u001b[43md01\u001b[49m\u001b[43m)\u001b[49m\n",
      "\u001b[1;31mTypeError\u001b[0m: '>' not supported between instances of 'int' and 'str'"
     ]
    }
   ],
   "source": [
    "max(d01)"
   ]
  },
  {
   "cell_type": "code",
   "execution_count": 75,
   "id": "26c7096c",
   "metadata": {},
   "outputs": [
    {
     "ename": "TypeError",
     "evalue": "'<' not supported between instances of 'int' and 'str'",
     "output_type": "error",
     "traceback": [
      "\u001b[1;31m---------------------------------------------------------------------------\u001b[0m",
      "\u001b[1;31mTypeError\u001b[0m                                 Traceback (most recent call last)",
      "Input \u001b[1;32mIn [75]\u001b[0m, in \u001b[0;36m<cell line: 1>\u001b[1;34m()\u001b[0m\n\u001b[1;32m----> 1\u001b[0m \u001b[38;5;28;43mmin\u001b[39;49m\u001b[43m(\u001b[49m\u001b[43md01\u001b[49m\u001b[43m)\u001b[49m\n",
      "\u001b[1;31mTypeError\u001b[0m: '<' not supported between instances of 'int' and 'str'"
     ]
    }
   ],
   "source": [
    "min(d01)"
   ]
  },
  {
   "cell_type": "code",
   "execution_count": 76,
   "id": "5cc3d4ac",
   "metadata": {},
   "outputs": [
    {
     "ename": "TypeError",
     "evalue": "'<' not supported between instances of 'int' and 'str'",
     "output_type": "error",
     "traceback": [
      "\u001b[1;31m---------------------------------------------------------------------------\u001b[0m",
      "\u001b[1;31mTypeError\u001b[0m                                 Traceback (most recent call last)",
      "Input \u001b[1;32mIn [76]\u001b[0m, in \u001b[0;36m<cell line: 1>\u001b[1;34m()\u001b[0m\n\u001b[1;32m----> 1\u001b[0m \u001b[38;5;28;43msorted\u001b[39;49m\u001b[43m(\u001b[49m\u001b[43md01\u001b[49m\u001b[43m)\u001b[49m\n",
      "\u001b[1;31mTypeError\u001b[0m: '<' not supported between instances of 'int' and 'str'"
     ]
    }
   ],
   "source": [
    "sorted(d01)"
   ]
  },
  {
   "cell_type": "markdown",
   "id": "3c18fc58",
   "metadata": {},
   "source": [
    "# 8.Concatenation and Repetition Operator\n",
    "\n",
    "> ### they are not supported on dict\n",
    "      * dict+dict -  not supported\n",
    "      * dict*int  -  not supported"
   ]
  },
  {
   "cell_type": "markdown",
   "id": "3b3b9530",
   "metadata": {},
   "source": [
    "# 9.Comparison Operator\n",
    ">    * d1>d2 - not supported\n",
    "     * d1>=d2 - not supported \n",
    "     * d1<d2  - not supported\n",
    "     * d1<=d2  - not supported\n",
    "     \n",
    "  * d1==d2 - supported\n",
    "  * d1!=d2 - supported\n",
    "* Two dict objects are equal if their items are               equal. Elements can be stored in any order"
   ]
  },
  {
   "cell_type": "markdown",
   "id": "4d1d2cd6",
   "metadata": {},
   "source": [
    "# 10 dict object methods\n",
    "* pop(key) : returns only data value of the object but delete whole pair. \n",
    "* popitem(): \n",
    "* clear()"
   ]
  },
  {
   "cell_type": "markdown",
   "id": "170dfa8c",
   "metadata": {},
   "source": [
    "> ## question: what is the difference between del and pop()\n",
    "\n",
    "Answer: del is keyword, and pop() is a function.. del just delete and doesn't return anything whereas pop returns datavalue.."
   ]
  },
  {
   "cell_type": "code",
   "execution_count": 78,
   "id": "6b5460dc",
   "metadata": {},
   "outputs": [
    {
     "data": {
      "text/plain": [
       "{103: 'payal', 106: 'Arjun', 107: 'Prachi', 101: 'Ravi'}"
      ]
     },
     "execution_count": 78,
     "metadata": {},
     "output_type": "execute_result"
    }
   ],
   "source": [
    "d1"
   ]
  },
  {
   "cell_type": "code",
   "execution_count": 79,
   "id": "e5338b95",
   "metadata": {},
   "outputs": [
    {
     "data": {
      "text/plain": [
       "'Prachi'"
      ]
     },
     "execution_count": 79,
     "metadata": {},
     "output_type": "execute_result"
    }
   ],
   "source": [
    "d1.pop(107)"
   ]
  },
  {
   "cell_type": "code",
   "execution_count": 80,
   "id": "f3d44dca",
   "metadata": {},
   "outputs": [
    {
     "data": {
      "text/plain": [
       "{103: 'payal', 106: 'Arjun', 101: 'Ravi'}"
      ]
     },
     "execution_count": 80,
     "metadata": {},
     "output_type": "execute_result"
    }
   ],
   "source": [
    "d1"
   ]
  },
  {
   "cell_type": "code",
   "execution_count": 81,
   "id": "e0588556",
   "metadata": {},
   "outputs": [
    {
     "data": {
      "text/plain": [
       "(101, 'Ravi')"
      ]
     },
     "execution_count": 81,
     "metadata": {},
     "output_type": "execute_result"
    }
   ],
   "source": [
    "d1.popitem() # it returns the tuple which has been deleted from\n",
    "# list.. we dont pass any argunment in it"
   ]
  },
  {
   "cell_type": "code",
   "execution_count": 82,
   "id": "4ae00046",
   "metadata": {},
   "outputs": [
    {
     "data": {
      "text/plain": [
       "{103: 'payal', 106: 'Arjun'}"
      ]
     },
     "execution_count": 82,
     "metadata": {},
     "output_type": "execute_result"
    }
   ],
   "source": [
    "d1"
   ]
  },
  {
   "cell_type": "code",
   "execution_count": 84,
   "id": "dca74a84",
   "metadata": {},
   "outputs": [],
   "source": [
    "d1.clear() # it clears all the element and becomes empty dict"
   ]
  },
  {
   "cell_type": "code",
   "execution_count": 85,
   "id": "863a863e",
   "metadata": {},
   "outputs": [
    {
     "name": "stdout",
     "output_type": "stream",
     "text": [
      "{}\n",
      "<class 'dict'>\n"
     ]
    }
   ],
   "source": [
    "print(d1)\n",
    "print(type(d1))"
   ]
  },
  {
   "cell_type": "markdown",
   "id": "deb6b7dd",
   "metadata": {},
   "source": [
    "# 11.Dict Comprehension\n",
    "> syntax= d1={key-expression:data-expression for v in seq}"
   ]
  },
  {
   "cell_type": "code",
   "execution_count": 90,
   "id": "35e74786",
   "metadata": {},
   "outputs": [],
   "source": [
    "d3={e:e**2 for e in range(1,6)}"
   ]
  },
  {
   "cell_type": "code",
   "execution_count": 91,
   "id": "0daf4dfc",
   "metadata": {},
   "outputs": [
    {
     "name": "stdout",
     "output_type": "stream",
     "text": [
      "{1: 1, 2: 4, 3: 9, 4: 16, 5: 25}\n"
     ]
    }
   ],
   "source": [
    "print(d3)"
   ]
  },
  {
   "cell_type": "markdown",
   "id": "f1f57156",
   "metadata": {},
   "source": [
    "# 12. User input"
   ]
  },
  {
   "cell_type": "code",
   "execution_count": 93,
   "id": "217542e6",
   "metadata": {},
   "outputs": [
    {
     "name": "stdout",
     "output_type": "stream",
     "text": [
      "How many student data you want to store6\n",
      "Enter the roll number56\n",
      "Enter student nameAbhi\n",
      "Enter the roll number46\n",
      "Enter student nameSwati\n",
      "Enter the roll number45\n",
      "Enter student nameSuman\n",
      "Enter the roll number23\n",
      "Enter student nameShivangi\n",
      "Enter the roll number34\n",
      "Enter student nameSamreen\n",
      "Enter the roll number89\n",
      "Enter student nameTrishabh\n",
      "{56: 'Abhi', 46: 'Swati', 45: 'Suman', 23: 'Shivangi', 34: 'Samreen', 89: 'Trishabh'}\n"
     ]
    }
   ],
   "source": [
    "# lets say we want to take input of roll no and student name\n",
    "n=int(input(\"How many student data you want to store\"))\n",
    "d3={}\n",
    "for e in range(1,n+1):\n",
    "    key=int(input(\"Enter the roll number\"))\n",
    "    data=input(\"Enter student name\")\n",
    "    d3[key]=data\n",
    "print(d3)"
   ]
  },
  {
   "cell_type": "code",
   "execution_count": null,
   "id": "32406395",
   "metadata": {},
   "outputs": [],
   "source": []
  }
 ],
 "metadata": {
  "kernelspec": {
   "display_name": "Python 3 (ipykernel)",
   "language": "python",
   "name": "python3"
  },
  "language_info": {
   "codemirror_mode": {
    "name": "ipython",
    "version": 3
   },
   "file_extension": ".py",
   "mimetype": "text/x-python",
   "name": "python",
   "nbconvert_exporter": "python",
   "pygments_lexer": "ipython3",
   "version": "3.9.13"
  }
 },
 "nbformat": 4,
 "nbformat_minor": 5
}
